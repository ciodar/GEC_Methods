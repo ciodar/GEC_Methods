{
 "cells": [
  {
   "cell_type": "markdown",
   "source": [
    "## TSV to HDF5 conversion"
   ],
   "metadata": {
    "collapsed": false,
    "pycharm": {
     "name": "#%% md\n"
    }
   }
  },
  {
   "cell_type": "code",
   "execution_count": 2,
   "metadata": {
    "collapsed": true,
    "pycharm": {
     "name": "#%%\n"
    }
   },
   "outputs": [],
   "source": [
    "import pathlib as pl\n",
    "from utils import csv_to_hf5,csv_line_count\n",
    "\n",
    "folder = \"D:\\\\Datasets\\\\c4_200m\\\\data\\\\tsv\""
   ]
  },
  {
   "cell_type": "code",
   "execution_count": null,
   "outputs": [],
   "source": [
    "%%time\n",
    "tsv_files = list(pl.Path(folder).glob('C4_200M.tsv-*'))\n",
    "for i,f in enumerate(tsv_files):\n",
    "    print(\"Converting \",f.name)\n",
    "    n = csv_line_count(f)\n",
    "    elapsed = csv_to_hf5(str(f),num_lines=n)"
   ],
   "metadata": {
    "collapsed": false,
    "pycharm": {
     "name": "#%%\n"
    }
   }
  },
  {
   "cell_type": "markdown",
   "source": [
    "## Virtual Dataset\n",
    "It is possible to merge all the files into a Virtual dataset, which contains 183 millions of samples.\n",
    "While I have provided the code to implement that, this will not be used in the following dataset."
   ],
   "metadata": {
    "collapsed": false,
    "pycharm": {
     "name": "#%% md\n"
    }
   }
  },
  {
   "cell_type": "code",
   "execution_count": 11,
   "outputs": [],
   "source": [
    "import pathlib as pl\n",
    "import h5py\n",
    "\n",
    "folder = \"D:\\\\Datasets\\\\c4_200m\\\\data\\\\hdf5\"\n",
    "file_names_to_concatenate = list(pl.Path(folder).glob('C4_200M.h5-*'))\n",
    "\n",
    "entry_key = 'text'  # where the data is inside of the source files.\n",
    "sh = h5py.File(file_names_to_concatenate[0], 'r')[entry_key].shape  # get the first ones shape.\n",
    "dt = h5py.special_dtype(vlen=str)\n",
    "\n",
    "layout = h5py.VirtualLayout(shape=(len(file_names_to_concatenate),) + sh,\n",
    "                            dtype=dt)\n",
    "\n",
    "with h5py.File(str(pl.Path(folder)/\"c4_200m.h5\"), 'w', libver='latest') as f:\n",
    "    for i, filename in enumerate(file_names_to_concatenate):\n",
    "        vsource = h5py.VirtualSource(filename, entry_key, shape=sh)\n",
    "        layout[i, :, :] = vsource\n",
    "\n",
    "    f.create_virtual_dataset(entry_key, layout)"
   ],
   "metadata": {
    "collapsed": false,
    "pycharm": {
     "name": "#%%\n"
    }
   }
  },
  {
   "cell_type": "markdown",
   "source": [
    "We can read each HDF5 files as a Numpy array, and most numpy operations such as slicing are supported."
   ],
   "metadata": {
    "collapsed": false,
    "pycharm": {
     "name": "#%% md\n"
    }
   }
  },
  {
   "cell_type": "code",
   "execution_count": 3,
   "outputs": [
    {
     "name": "stdout",
     "output_type": "stream",
     "text": [
      "input: Bitcoin is for $7,094 this morning, which CoinDesk says.\n",
      "label: Bitcoin goes for $7,094 this morning, according to CoinDesk.\n"
     ]
    }
   ],
   "source": [
    "import h5py\n",
    "\n",
    "folder = \"D:\\\\Datasets\\\\c4_200m\\\\data\\\\hdf5\"\n",
    "h5_files = list(pl.Path(folder).glob('C4_200M.h5-*'))\n",
    "\n",
    "index = 0\n",
    "\n",
    "with h5py.File(h5_files[0], 'r') as h5_file:\n",
    "    input = h5_file['text'][0,index].decode('utf-8')\n",
    "    label = h5_file['text'][1,index].decode('utf-8')\n",
    "\n",
    "print(\"input:\",input)\n",
    "print(\"label:\",label)"
   ],
   "metadata": {
    "collapsed": false,
    "pycharm": {
     "name": "#%%\n"
    }
   }
  },
  {
   "cell_type": "markdown",
   "source": [
    "## Dataset\n",
    "To be able to use this dataset for a training process, I have created a custom class, based on this [notebook](https://github.com/rasbt/deeplearning-models/blob/master/pytorch_ipynb/mechanics/custom-data-loader-csv.ipynb)"
   ],
   "metadata": {
    "collapsed": false,
    "pycharm": {
     "name": "#%% md\n"
    }
   }
  },
  {
   "cell_type": "code",
   "execution_count": 5,
   "outputs": [
    {
     "name": "stdout",
     "output_type": "stream",
     "text": [
      "Dataset length:  18386522\n",
      "Bitcoin is for $7,094 this morning, which CoinDesk says.\n",
      "Bitcoin goes for $7,094 this morning, according to CoinDesk.\n"
     ]
    }
   ],
   "source": [
    "from torch.utils.data import Dataset\n",
    "class Hdf5Dataset(Dataset):\n",
    "    \"\"\"Custom Dataset for loading entries from HDF5 databases\"\"\"\n",
    "\n",
    "    def __init__(self, h5_path, transform=None,num_entries = None):\n",
    "\n",
    "        self.h5f = h5py.File(h5_path, 'r')\n",
    "        if num_entries:\n",
    "            self.num_entries = num_entries\n",
    "        else:\n",
    "            self.num_entries = self.h5f['text'].shape[1]\n",
    "        self.transform = transform\n",
    "\n",
    "    def __getitem__(self, index):\n",
    "        if index > self.num_entries:\n",
    "            raise StopIteration\n",
    "        input = self.h5f['text'][0,index].decode('utf-8')\n",
    "        label = self.h5f['text'][1,index].decode('utf-8')\n",
    "        if self.transform is not None:\n",
    "            features = self.transform(input)\n",
    "        return input, label\n",
    "\n",
    "    def __len__(self):\n",
    "        return self.num_entries\n",
    "\n",
    "dset = Hdf5Dataset(h5_files[0])\n",
    "print(\"Dataset length: \", len(dset))\n",
    "\n",
    "for f in dset[0]:\n",
    "    print(f)"
   ],
   "metadata": {
    "collapsed": false,
    "pycharm": {
     "name": "#%%\n"
    }
   }
  },
  {
   "cell_type": "markdown",
   "source": [
    "## Vocabulary\n",
    "It is now possible to obtain a vocabulary fitted on our dataset by performing a count of each tokenized sentence of the dataset, and piking the most frequent ones, based on the desired vocabulary dimensionality."
   ],
   "metadata": {
    "collapsed": false,
    "pycharm": {
     "name": "#%% md\n"
    }
   }
  },
  {
   "cell_type": "code",
   "execution_count": 8,
   "outputs": [
    {
     "ename": "AttributeError",
     "evalue": "'Hdf5Dataset' object has no attribute 'shape'",
     "output_type": "error",
     "traceback": [
      "\u001B[1;31m---------------------------------------------------------------------------\u001B[0m",
      "\u001B[1;31mAttributeError\u001B[0m                            Traceback (most recent call last)",
      "File \u001B[1;32m<timed exec>:35\u001B[0m, in \u001B[0;36m<module>\u001B[1;34m\u001B[0m\n",
      "File \u001B[1;32m<timed exec>:21\u001B[0m, in \u001B[0;36mbuild_vocab\u001B[1;34m(dataset_iterator, col, vocab_size, out_folder, filename)\u001B[0m\n",
      "File \u001B[1;32m~\\miniconda3\\envs\\pytorch\\lib\\site-packages\\torchtext\\vocab\\vocab_factory.py:92\u001B[0m, in \u001B[0;36mbuild_vocab_from_iterator\u001B[1;34m(iterator, min_freq, specials, special_first, max_tokens)\u001B[0m\n\u001B[0;32m     66\u001B[0m \u001B[38;5;124;03m\"\"\"\u001B[39;00m\n\u001B[0;32m     67\u001B[0m \u001B[38;5;124;03mBuild a Vocab from an iterator.\u001B[39;00m\n\u001B[0;32m     68\u001B[0m \n\u001B[1;32m   (...)\u001B[0m\n\u001B[0;32m     88\u001B[0m \u001B[38;5;124;03m    >>> vocab = build_vocab_from_iterator(yield_tokens(file_path), specials=[\"<unk>\"])\u001B[39;00m\n\u001B[0;32m     89\u001B[0m \u001B[38;5;124;03m\"\"\"\u001B[39;00m\n\u001B[0;32m     91\u001B[0m counter \u001B[38;5;241m=\u001B[39m Counter()\n\u001B[1;32m---> 92\u001B[0m \u001B[38;5;28;01mfor\u001B[39;00m tokens \u001B[38;5;129;01min\u001B[39;00m iterator:\n\u001B[0;32m     93\u001B[0m     counter\u001B[38;5;241m.\u001B[39mupdate(tokens)\n\u001B[0;32m     95\u001B[0m specials \u001B[38;5;241m=\u001B[39m specials \u001B[38;5;129;01mor\u001B[39;00m []\n",
      "File \u001B[1;32m<timed exec>:9\u001B[0m, in \u001B[0;36myield_tokens\u001B[1;34m(data_iter, index)\u001B[0m\n",
      "\u001B[1;31mAttributeError\u001B[0m: 'Hdf5Dataset' object has no attribute 'shape'"
     ]
    }
   ],
   "source": [
    "%%time\n",
    "\n",
    "from typing import Iterable, List\n",
    "import tqdm\n",
    "import torchtext as text\n",
    "import torch\n",
    "\n",
    "token_transform = text.data.utils.get_tokenizer('spacy', language='en_core_web_sm')\n",
    "\n",
    "def yield_tokens(data_iter: Iterable, index: int) -> List[str]:\n",
    "    for i in data_iter.shape[0]:\n",
    "        for data_sample in tqdm.tqdm(data_iter[i,:,:]):\n",
    "            if data_sample[index] and isinstance(data_sample[index], str):\n",
    "                yield token_transform(data_sample[index])\n",
    "\n",
    "def build_vocab(dataset_iterator, col=1, vocab_size=None, out_folder=None,filename='vocab.pth'):\n",
    "    # Define special symbols and indices\n",
    "    UNK_IDX, PAD_IDX, BOS_IDX, EOS_IDX = 0, 1, 2, 3\n",
    "    # Make sure the tokens are in order of their indices to properly insert them in vocab\n",
    "    special_symbols = ['<UNK>', '<PAD>', '<BOS>', '<EOS>']\n",
    "\n",
    "    # Create torchtext's Vocab object\n",
    "    vocab_transform = text.vocab.build_vocab_from_iterator(yield_tokens(dset, col),\n",
    "                                                           max_tokens=vocab_size,\n",
    "                                                           specials=special_symbols,\n",
    "                                                           special_first=True)\n",
    "    print(\"Built vocabulary\")\n",
    "    vocab_transform.set_default_index(UNK_IDX)\n",
    "    torch.save(vocab_transform, pl.Path(out_folder) / filename)\n",
    "\n",
    "#Path of the vocabulary file\n",
    "out_folder = 'vocab'\n",
    "filename = 'tgt_vocab_20K_18M'\n",
    "vocab_size=20_000\n",
    "col = 1\n",
    "\n",
    "build_vocab(dset,vocab_size=vocab_size,out_folder=out_folder,filename=filename)"
   ],
   "metadata": {
    "collapsed": false,
    "pycharm": {
     "name": "#%%\n"
    }
   }
  }
 ],
 "metadata": {
  "kernelspec": {
   "display_name": "Python 3",
   "language": "python",
   "name": "python3"
  },
  "language_info": {
   "codemirror_mode": {
    "name": "ipython",
    "version": 2
   },
   "file_extension": ".py",
   "mimetype": "text/x-python",
   "name": "python",
   "nbconvert_exporter": "python",
   "pygments_lexer": "ipython2",
   "version": "2.7.6"
  }
 },
 "nbformat": 4,
 "nbformat_minor": 0
}