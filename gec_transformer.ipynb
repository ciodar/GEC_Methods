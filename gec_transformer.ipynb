{
 "cells": [
  {
   "cell_type": "code",
   "execution_count": 1,
   "id": "cd9a3720",
   "metadata": {
    "collapsed": false,
    "execution": {
     "iopub.execute_input": "2022-09-15T08:17:17.462406Z",
     "iopub.status.busy": "2022-09-15T08:17:17.461579Z",
     "iopub.status.idle": "2022-09-15T08:17:18.838354Z",
     "shell.execute_reply": "2022-09-15T08:17:18.837260Z"
    },
    "jupyter": {
     "outputs_hidden": false
    },
    "papermill": {
     "duration": 1.389946,
     "end_time": "2022-09-15T08:17:18.842205",
     "exception": false,
     "start_time": "2022-09-15T08:17:17.452259",
     "status": "completed"
    },
    "pycharm": {
     "name": "#%%\n"
    },
    "tags": []
   },
   "outputs": [],
   "source": [
    "import nltk.translate.chrf_score\n",
    "import random\n",
    "import matplotlib.pyplot as plt\n",
    "%matplotlib inline\n",
    "#plt.switch_backend('agg')\n",
    "\n",
    "# del transformer\n",
    "# torch.cuda.empty_cache()"
   ]
  },
  {
   "cell_type": "markdown",
   "id": "63f2aa49",
   "metadata": {
    "papermill": {
     "duration": 0.012438,
     "end_time": "2022-09-15T08:17:18.864860",
     "exception": false,
     "start_time": "2022-09-15T08:17:18.852422",
     "status": "completed"
    },
    "pycharm": {
     "name": "#%% md\n"
    },
    "tags": []
   },
   "source": [
    "Grammar Error Correction with Transformers\n",
    "======================================================\n",
    "\n",
    "This notebook shows how to train a GEC model based on transformers.\n",
    "\n",
    "Table of Contents\n",
    "\n",
    "- [1. Data Sourcing and Processing](#1)\n",
    "    - Tokenizing and Embedding\n",
    "    - Collation\n",
    "- [2. Seq2Seq Network using Transformer](#2)\n",
    "    - Positional encoding\n",
    "    - Multi-head attention\n",
    "- [3. Model definition](#3)\n",
    "- [4. Training](#4)\n",
    "- [5. Evaluation](#5)\n",
    "    - Greedy Search Inference\n",
    "    - Performance evaluation\n",
    "- [6. Experiments](#6)\n",
    "- [7. Results](#7)\n",
    "- [8. References](#8)"
   ]
  },
  {
   "cell_type": "markdown",
   "id": "198782da",
   "metadata": {
    "papermill": {
     "duration": 0.010406,
     "end_time": "2022-09-15T08:17:18.886085",
     "exception": false,
     "start_time": "2022-09-15T08:17:18.875679",
     "status": "completed"
    },
    "pycharm": {
     "name": "#%% md\n"
    },
    "tags": []
   },
   "source": [
    "<a name='1'></a>\n",
    "# 1. Data Sourcing and Processing\n",
    "\n",
    "C4 200M dataset from Google Research is used in this notebook. You can find more information about the C4 200M dataset on Google Research's [BEA 2021 paper](https://aclanthology.org/2021.bea-1.4/) (Stahlberg and Kumar, 2021).\n",
    "\n",
    "The already [processed dataset](https://huggingface.co/datasets/liweili/c4_200m) was extracted from Huggingface in CSV format, then was transformed to HDF5 format for better manageability. The conversion process is detailed in ``utils.py``, and was based on this [notebook](https://github.com/rasbt/deeplearning-models/blob/master/pytorch_ipynb/mechanics/custom-data-loader-csv.ipynb).\n",
    "The final version of the dataset is uploaded on [Kaggle](https://www.kaggle.com/datasets/dariocioni/c4200m).\n",
    "\n",
    "A custom class ``Hdf5Dataset`` based on ``torch.utils.data.Dataset`` is developed, which yields a pair of source-target raw sentences.\n",
    "\n",
    "| source                                             | target                                                  |\n",
    "|----------------------------------------------------|---------------------------------------------------------|\n",
    "| Much many brands and sellers still in the market.  | Many brands and sellers still in the market.            |\n",
    "| She likes playing in park and come here every week | She likes playing in the park and comes here every week |\n",
    "\n",
    "To be able to train on a arbitrary subset of a single file, the dataset only reads chunks of length ``num_entries`` if the parameter is specified . In order to capture more examples, a different chunk can be randomly chosen at each epoch by specifying ``randomized=True``"
   ]
  },
  {
   "cell_type": "code",
   "execution_count": 2,
   "id": "f162ce69",
   "metadata": {
    "collapsed": false,
    "execution": {
     "iopub.execute_input": "2022-09-15T08:17:18.907983Z",
     "iopub.status.busy": "2022-09-15T08:17:18.907658Z",
     "iopub.status.idle": "2022-09-15T08:17:20.725551Z",
     "shell.execute_reply": "2022-09-15T08:17:20.724650Z"
    },
    "jupyter": {
     "outputs_hidden": false
    },
    "papermill": {
     "duration": 1.831118,
     "end_time": "2022-09-15T08:17:20.727724",
     "exception": false,
     "start_time": "2022-09-15T08:17:18.896606",
     "status": "completed"
    },
    "pycharm": {
     "name": "#%%\n"
    },
    "tags": []
   },
   "outputs": [],
   "source": [
    "# Import libraries\n",
    "import torch\n",
    "import pathlib as pl"
   ]
  },
  {
   "cell_type": "code",
   "execution_count": 3,
   "id": "af89d821",
   "metadata": {
    "collapsed": false,
    "execution": {
     "iopub.execute_input": "2022-09-15T08:17:20.744301Z",
     "iopub.status.busy": "2022-09-15T08:17:20.743692Z",
     "iopub.status.idle": "2022-09-15T08:17:20.891717Z",
     "shell.execute_reply": "2022-09-15T08:17:20.890976Z"
    },
    "jupyter": {
     "outputs_hidden": false
    },
    "papermill": {
     "duration": 0.158179,
     "end_time": "2022-09-15T08:17:20.893526",
     "exception": false,
     "start_time": "2022-09-15T08:17:20.735347",
     "status": "completed"
    },
    "pycharm": {
     "name": "#%%\n"
    },
    "tags": []
   },
   "outputs": [],
   "source": [
    "import h5py\n",
    "from torch.utils.data import Dataset\n",
    "random.seed(42)\n",
    "\n",
    "class Hdf5Dataset(Dataset):\n",
    "    \"\"\"Custom Dataset for loading entries from HDF5 databases\"\"\"\n",
    "\n",
    "    def __init__(self, h5_path, transform=None,num_entries = None,randomized=False):\n",
    "\n",
    "        self.h5f = h5py.File(h5_path, 'r')\n",
    "        self.size = self.h5f['labels'].shape[0]\n",
    "        self.transform = transform\n",
    "        self.randomized = randomized\n",
    "        self.max_index = num_entries if num_entries is not None else self.size\n",
    "        #Chooses an offset for the dataset when using a subset of a Hdf5 file\n",
    "        if randomized:\n",
    "            self.offset = random.choice(range(0,self.size//self.max_index))*self.max_index\n",
    "        else:\n",
    "            self.offset = 0\n",
    "\n",
    "\n",
    "    def __getitem__(self, index):\n",
    "        if index > self.max_index:\n",
    "            raise StopIteration\n",
    "        input = self.h5f['input'][self.offset+index].decode('utf-8')\n",
    "        label = self.h5f['labels'][self.offset+index].decode('utf-8')\n",
    "        if self.transform is not None:\n",
    "            features = self.transform(input)\n",
    "        return input, label\n",
    "\n",
    "    def __len__(self):\n",
    "        return self.max_index\n",
    "\n",
    "    def reshuffle(self):\n",
    "        if self.randomized:\n",
    "            self.offset = random.choice(range(0,self.size//self.max_index))*self.max_index\n",
    "        else:\n",
    "            print(\"Please set randomized=True\")"
   ]
  },
  {
   "cell_type": "code",
   "execution_count": 4,
   "id": "8756aa3a",
   "metadata": {
    "collapsed": false,
    "execution": {
     "iopub.execute_input": "2022-09-15T08:17:20.908697Z",
     "iopub.status.busy": "2022-09-15T08:17:20.908396Z",
     "iopub.status.idle": "2022-09-15T08:17:21.098380Z",
     "shell.execute_reply": "2022-09-15T08:17:21.097641Z"
    },
    "jupyter": {
     "outputs_hidden": false
    },
    "papermill": {
     "duration": 0.200252,
     "end_time": "2022-09-15T08:17:21.100986",
     "exception": false,
     "start_time": "2022-09-15T08:17:20.900734",
     "status": "completed"
    },
    "pycharm": {
     "name": "#%%\n"
    },
    "tags": []
   },
   "outputs": [],
   "source": [
    "from typing import List\n",
    "from tqdm import tqdm\n",
    "from torchtext.data import get_tokenizer\n",
    "\n",
    "SRC_LANGUAGE = 'incorrect'\n",
    "TGT_LANGUAGE = 'correct'\n",
    "MAX_LENGTH = 500\n",
    "VOCAB_SIZE = 20000\n",
    "\n",
    "TRAIN_SAMPLES = 100000\n",
    "VALID_SAMPLES = 10000\n",
    "\n",
    "# Place-holders\n",
    "vocab_transform = {}\n",
    "\n",
    "token_transform = get_tokenizer(\"basic_english\")\n",
    "\n",
    "# folder = 'dataset'\n",
    "# train_filename = 'train.hf5'\n",
    "# valid_filename = 'valid.hf5'\n",
    "# test_filename = 'test.hf5'\n",
    "# src_vocab_path = 'vocab/src_vocab_20K_spacy.pth'\n",
    "# tgt_vocab_path = 'vocab/src_vocab_20K_spacy.pth'\n",
    "# #embedding_path = 'vocab/glove_42B_300d_20K.pth'\n",
    "# checkpoint_folder = 'G:\\Il mio Drive\\Colab Notebooks\\GEC_Soft_Masked_BERT\\checkpoints'\n",
    "\n",
    "##COLAB\n",
    "folder = '../input/c4200m/hdf5'\n",
    "train_filename = 'C4_200M.hf5-00000-of-00010'\n",
    "valid_filename = 'C4_200M.hf5-00001-of-00010'\n",
    "test_filename = 'C4_200M.hf5-00002-of-00010'\n",
    "# embedding_path = '/content/drive/MyDrive/Colab Notebooks/GEC_Soft_Masked_BERT/vocab/glove_42B_300d_20K.pth'\n",
    "src_vocab_path = '../input/c4-200m-vocabulary/vocab_20K.pth'\n",
    "tgt_vocab_path = '../input/c4-200m-vocabulary/vocab_20K.pth'\n",
    "checkpoint_folder = './'"
   ]
  },
  {
   "cell_type": "markdown",
   "id": "c0cd7638",
   "metadata": {
    "papermill": {
     "duration": 0.007041,
     "end_time": "2022-09-15T08:17:21.115688",
     "exception": false,
     "start_time": "2022-09-15T08:17:21.108647",
     "status": "completed"
    },
    "pycharm": {
     "name": "#%% md\n"
    },
    "tags": []
   },
   "source": []
  },
  {
   "cell_type": "code",
   "execution_count": 5,
   "id": "ca6818c4",
   "metadata": {
    "collapsed": false,
    "execution": {
     "iopub.execute_input": "2022-09-15T08:17:21.130706Z",
     "iopub.status.busy": "2022-09-15T08:17:21.130411Z",
     "iopub.status.idle": "2022-09-15T08:17:21.329946Z",
     "shell.execute_reply": "2022-09-15T08:17:21.329085Z"
    },
    "jupyter": {
     "outputs_hidden": false
    },
    "papermill": {
     "duration": 0.209433,
     "end_time": "2022-09-15T08:17:21.332080",
     "exception": false,
     "start_time": "2022-09-15T08:17:21.122647",
     "status": "completed"
    },
    "pycharm": {
     "name": "#%%\n"
    },
    "tags": []
   },
   "outputs": [],
   "source": [
    "import torchtext as text\n",
    "import numpy as np\n",
    "import torch\n",
    "\n",
    "UNK_IDX, PAD_IDX, BOS_IDX, EOS_IDX = 0, 1, 2, 3\n",
    "# # Make sure the tokens are in order of their indices to properly insert them in vocab\n",
    "special_symbols = ['<UNK>','<PAD>', '<BOS>', '<EOS>']\n",
    "\n",
    "vocab_transform[SRC_LANGUAGE] = torch.load(src_vocab_path)\n",
    "vocab_transform[TGT_LANGUAGE] = torch.load(tgt_vocab_path)\n",
    "\n",
    "#Procedure for pretrained embeddings. Not fitting into memory\n",
    "# def pretrained_embs(name: str, dim: str,max_vectors: int=None):\n",
    "#     glove_vectors = text.vocab.GloVe(name=name,dim=dim,max_vectors=max_vectors)\n",
    "#     glove_vocab = text.vocab.vocab(glove_vectors.stoi)\n",
    "#     pretrained_embeddings = glove_vectors.vectors\n",
    "#     glove_vocab.insert_token('<UNK>',UNK_IDX)\n",
    "#     pretrained_embeddings = torch.cat((torch.mean(pretrained_embeddings,dim=0,keepdims=True),pretrained_embeddings))\n",
    "#     glove_vocab.insert_token('<PAD>',PAD_IDX)\n",
    "#     pretrained_embeddings = torch.cat((torch.zeros(1,pretrained_embeddings.shape[1]),pretrained_embeddings))\n",
    "#     glove_vocab.insert_token('<BOS>',PAD_IDX)\n",
    "#     pretrained_embeddings = torch.cat((torch.rand(1,pretrained_embeddings.shape[1]),pretrained_embeddings))\n",
    "#     glove_vocab.insert_token('<EOS>',PAD_IDX)\n",
    "#     pretrained_embeddings = torch.cat((torch.rand(1,pretrained_embeddings.shape[1]),pretrained_embeddings))\n",
    "#     glove_vocab.set_default_index(UNK_IDX)\n",
    "#     return glove_vocab,pretrained_embeddings\n",
    "# vocab, embeddings = pretrained_embs('42B','100',50000)"
   ]
  },
  {
   "cell_type": "markdown",
   "id": "816fab88",
   "metadata": {
    "papermill": {
     "duration": 0.006868,
     "end_time": "2022-09-15T08:17:21.346217",
     "exception": false,
     "start_time": "2022-09-15T08:17:21.339349",
     "status": "completed"
    },
    "pycharm": {
     "name": "#%% md\n"
    },
    "tags": []
   },
   "source": [
    "### Collation\n",
    "\n",
    "An iterator over ``Hdf5dataset`` yields a pair of raw strings.\n",
    "We need to convert these string pairs into the batched tensors that can be processed by our ``Seq2Seq`` network.\n",
    "Below I defined a collate function that converts batch of raw strings into batch tensors that can be fed directly into the model."
   ]
  },
  {
   "cell_type": "code",
   "execution_count": 6,
   "id": "837f5f56",
   "metadata": {
    "collapsed": false,
    "execution": {
     "iopub.execute_input": "2022-09-15T08:17:21.361865Z",
     "iopub.status.busy": "2022-09-15T08:17:21.361061Z",
     "iopub.status.idle": "2022-09-15T08:17:21.369987Z",
     "shell.execute_reply": "2022-09-15T08:17:21.369263Z"
    },
    "jupyter": {
     "outputs_hidden": false
    },
    "papermill": {
     "duration": 0.018414,
     "end_time": "2022-09-15T08:17:21.371590",
     "exception": false,
     "start_time": "2022-09-15T08:17:21.353176",
     "status": "completed"
    },
    "pycharm": {
     "name": "#%%\n"
    },
    "tags": []
   },
   "outputs": [],
   "source": [
    "from torch.nn.utils.rnn import pad_sequence\n",
    "\n",
    "# helper function to club together sequential operations\n",
    "def sequential_transforms(*transforms):\n",
    "    def func(txt_input):\n",
    "        for transform in transforms:\n",
    "            txt_input = transform(txt_input)\n",
    "        return txt_input\n",
    "    return func\n",
    "\n",
    "# def glove_transform(tokens: List[str]):\n",
    "\n",
    "# function to add BOS/EOS and create tensor for input sequence indices\n",
    "def tensor_transform(token_ids: List[int]):\n",
    "    #truncate sequences longer than MAX_LENGTH\n",
    "    if(len(token_ids) > MAX_LENGTH - 2):\n",
    "        token_ids = token_ids[0:MAX_LENGTH -2]\n",
    "    return torch.cat((torch.tensor([BOS_IDX]),\n",
    "                      torch.tensor(token_ids),\n",
    "                      torch.tensor([EOS_IDX])))\n",
    "\n",
    "# src and tgt language text transforms to convert raw strings into tensors indices\n",
    "text_transform = {}\n",
    "for ln in [SRC_LANGUAGE, TGT_LANGUAGE]:\n",
    "    text_transform[ln] = sequential_transforms(token_transform,\n",
    "                                           vocab_transform[ln],\n",
    "                                           tensor_transform) # Add BOS/EOS and create tensor\n",
    "\n",
    "\n",
    "# function to collate data samples into batch tesors\n",
    "def collate_fn(batch):\n",
    "    src_batch, tgt_batch = [], []\n",
    "    for src_sample, tgt_sample in batch:\n",
    "        src_batch.append(text_transform[SRC_LANGUAGE](src_sample.rstrip(\"\\n\")))\n",
    "        tgt_batch.append(text_transform[TGT_LANGUAGE](tgt_sample.rstrip(\"\\n\")))\n",
    "\n",
    "    src_batch = pad_sequence(src_batch, padding_value=PAD_IDX)\n",
    "    tgt_batch = pad_sequence(tgt_batch, padding_value=PAD_IDX)\n",
    "    return src_batch, tgt_batch"
   ]
  },
  {
   "cell_type": "markdown",
   "id": "1a8ff79b",
   "metadata": {
    "papermill": {
     "duration": 0.007197,
     "end_time": "2022-09-15T08:17:21.385732",
     "exception": false,
     "start_time": "2022-09-15T08:17:21.378535",
     "status": "completed"
    },
    "pycharm": {
     "name": "#%% md\n"
    },
    "tags": []
   },
   "source": [
    "Here's an example of the encoding"
   ]
  },
  {
   "cell_type": "code",
   "execution_count": 7,
   "id": "bc82f539",
   "metadata": {
    "collapsed": false,
    "execution": {
     "iopub.execute_input": "2022-09-15T08:17:21.400514Z",
     "iopub.status.busy": "2022-09-15T08:17:21.400250Z",
     "iopub.status.idle": "2022-09-15T08:17:21.410728Z",
     "shell.execute_reply": "2022-09-15T08:17:21.408641Z"
    },
    "jupyter": {
     "outputs_hidden": false
    },
    "papermill": {
     "duration": 0.020505,
     "end_time": "2022-09-15T08:17:21.413115",
     "exception": false,
     "start_time": "2022-09-15T08:17:21.392610",
     "status": "completed"
    },
    "pycharm": {
     "name": "#%%\n"
    },
    "tags": []
   },
   "outputs": [
    {
     "name": "stdout",
     "output_type": "stream",
     "text": [
      "tensor([[   2],\n",
      "        [ 157],\n",
      "        [   0],\n",
      "        [  13],\n",
      "        [1480],\n",
      "        [  32],\n",
      "        [   3]]) tensor([[   2],\n",
      "        [ 157],\n",
      "        [1185],\n",
      "        [  13],\n",
      "        [1480],\n",
      "        [  32],\n",
      "        [   3]])\n"
     ]
    }
   ],
   "source": [
    "text = ('Data Maining is awesome!','Data Mining is awesome!')\n",
    "src,tgt = collate_fn([text])\n",
    "print(src,tgt)"
   ]
  },
  {
   "cell_type": "markdown",
   "id": "c9a9ed2d",
   "metadata": {
    "papermill": {
     "duration": 0.006921,
     "end_time": "2022-09-15T08:17:21.428525",
     "exception": false,
     "start_time": "2022-09-15T08:17:21.421604",
     "status": "completed"
    },
    "pycharm": {
     "name": "#%% md\n"
    },
    "tags": []
   },
   "source": [
    "<a name='2'></a>\n",
    "# 2. Seq2Seq Network using Transformer\n",
    "\n",
    "Transformer is a Seq2Seq model introduced in [“Attention is all you need”](<https://papers.nips.cc/paper/2017/file/3f5ee243547dee91fbd053c1c4a845aa-Paper.pdf>) paper for solving machine translation tasks.\n",
    "Below, we will create a Seq2Seq network that uses Transformer. The network consists of three parts:\n",
    "1) The embedding layer. This layer converts tensor of input indices into corresponding tensor of input embeddings.\n",
    "    These embedding are further augmented with ``Positional Encodings``, to provide position information of input tokens to the model.\n",
    "2) The actual [Transformer](<https://pytorch.org/docs/stable/generated/torch.nn.Transformer.html>) model.\n",
    "3) The output of Transformer model is finally passed through a linear layer that give un-normalized probabilities for each token in the target language.\n",
    "\n",
    "### Positional Encoding\n",
    "Differently from RNNs, Transformers don't have a notion of relative or absolute position of the tokens in the input.\n",
    "One solution is to combine the input embeddings with positional embeddings, specific to each position in an input sequence.\n",
    "A solution that is not biased towards the initial positions consists in a combination of sine and cosine functions of different frequencies ([Vaswani et al. ,2017](<https://papers.nips.cc/paper/2017/file/3f5ee243547dee91fbd053c1c4a845aa-Paper.pdf>))\n",
    "\n",
    "Given an embedding of length $d$, a position in the sequence $pos$ and the $i$-th dimension of the embedding, the position embedding is calculated as\n",
    "\n",
    "$$PE_{(pos,2i)} = \\sin(pos/10000^{2i/d})\\quad,\\quad PE_{(pos,2i+1)} = \\cos(pos/10000^{2i/d})$$\n",
    "\n",
    "Dropout is also added to the sums of the embeddings and the positional encodings in both the encoder and decoder.\n",
    "\n",
    "<img src=\"https://github.com/ciodar/GEC_Methods/blob/master/img/pos_enc.png?raw=true\">\n",
    "\n",
    "### Multi-head attention\n",
    "A single transformer block cannot capture all the different kinds of simultaneous relations among its inputs.\n",
    "To address this problem, Transformers can use multiple self-attention heads, residing in parallel layers and with different parameter sets.\n",
    "Each head $i$ will have a different set of key, query and value matrices $W_i^K,W_i^Q,W_i^V$ and will project into different embeddings for each head.\n",
    "The different embeddings are finally reduced to the original input dimension, using a trainable linear projection $W^O$\n",
    "\n",
    "<img src=\"https://github.com/ciodar/GEC_Methods/blob/master/img/multihead.png?raw=true\">\n",
    "\n",
    "\n"
   ]
  },
  {
   "cell_type": "code",
   "execution_count": 8,
   "id": "5c080669",
   "metadata": {
    "collapsed": false,
    "execution": {
     "iopub.execute_input": "2022-09-15T08:17:21.443987Z",
     "iopub.status.busy": "2022-09-15T08:17:21.443729Z",
     "iopub.status.idle": "2022-09-15T08:17:21.517461Z",
     "shell.execute_reply": "2022-09-15T08:17:21.516712Z"
    },
    "jupyter": {
     "outputs_hidden": false
    },
    "papermill": {
     "duration": 0.083511,
     "end_time": "2022-09-15T08:17:21.519308",
     "exception": false,
     "start_time": "2022-09-15T08:17:21.435797",
     "status": "completed"
    },
    "pycharm": {
     "name": "#%%\n"
    },
    "tags": []
   },
   "outputs": [],
   "source": [
    "from torch import Tensor\n",
    "import torch\n",
    "import torch.nn as nn\n",
    "from torch.nn import Transformer\n",
    "\n",
    "import math\n",
    "DEVICE = torch.device('cuda' if torch.cuda.is_available() else 'cpu')\n",
    "\n",
    "# helper Module that adds positional encoding to the token embedding to introduce a notion of word order.\n",
    "class PositionalEncoding(nn.Module):\n",
    "    def __init__(self,\n",
    "                 emb_size: int,\n",
    "                 dropout: float,\n",
    "                 maxlen: int = 5000):\n",
    "        super(PositionalEncoding, self).__init__()\n",
    "        den = torch.exp(- torch.arange(0, emb_size, 2)* math.log(10000) / emb_size)\n",
    "        pos = torch.arange(0, maxlen).reshape(maxlen, 1)\n",
    "        pos_embedding = torch.zeros((maxlen, emb_size))\n",
    "        pos_embedding[:, 0::2] = torch.sin(pos * den)\n",
    "        pos_embedding[:, 1::2] = torch.cos(pos * den)\n",
    "        pos_embedding = pos_embedding.unsqueeze(-2)\n",
    "\n",
    "        self.dropout = nn.Dropout(dropout)\n",
    "        self.register_buffer('pos_embedding', pos_embedding)\n",
    "\n",
    "    def forward(self, token_embedding: Tensor):\n",
    "        return self.dropout(token_embedding + self.pos_embedding[:token_embedding.size(0), :])\n",
    "\n",
    "# helper Module to convert tensor of input indices into corresponding tensor of token embeddings\n",
    "class TokenEmbedding(nn.Module):\n",
    "    def __init__(self, vocab_size: int, emb_size,embedding_weights=None):\n",
    "        super(TokenEmbedding, self).__init__()\n",
    "        if embedding_weights is not None:\n",
    "            self.embedding = nn.Embedding.from_pretrained(embedding_weights,freeze=True,padding_idx=PAD_IDX)\n",
    "        else:\n",
    "            self.embedding = nn.Embedding(vocab_size, emb_size)\n",
    "\n",
    "            # self.embedding.weight.requires_grad =False\n",
    "        self.emb_size = emb_size\n",
    "\n",
    "    def forward(self, tokens: Tensor):\n",
    "        return self.embedding(tokens.long()) * math.sqrt(self.emb_size)\n",
    "\n",
    "# Seq2Seq Network \n",
    "class Seq2SeqTransformer(nn.Module):\n",
    "    def __init__(self,\n",
    "                 num_encoder_layers: int,\n",
    "                 num_decoder_layers: int,\n",
    "                 emb_size: int,\n",
    "                 nhead: int,\n",
    "                 src_vocab_size: int,\n",
    "                 tgt_vocab_size: int,\n",
    "                 dim_feedforward: int = 100,\n",
    "                 dropout: float = 0.1,\n",
    "                 embedding_weights = None):\n",
    "        super(Seq2SeqTransformer, self).__init__()\n",
    "        self.transformer = Transformer(d_model=emb_size,\n",
    "                                       nhead=nhead,\n",
    "                                       num_encoder_layers=num_encoder_layers,\n",
    "                                       num_decoder_layers=num_decoder_layers,\n",
    "                                       dim_feedforward=dim_feedforward,\n",
    "                                       dropout=dropout)\n",
    "        self.generator = nn.Linear(emb_size, tgt_vocab_size)\n",
    "        self.src_tok_emb = TokenEmbedding(src_vocab_size, emb_size,embedding_weights)\n",
    "        self.tgt_tok_emb = TokenEmbedding(tgt_vocab_size, emb_size,embedding_weights)\n",
    "        self.positional_encoding = PositionalEncoding(\n",
    "            emb_size, dropout=dropout)\n",
    "\n",
    "    def forward(self,\n",
    "                src: Tensor,\n",
    "                trg: Tensor,\n",
    "                src_mask: Tensor,\n",
    "                tgt_mask: Tensor,\n",
    "                src_padding_mask: Tensor,\n",
    "                tgt_padding_mask: Tensor,\n",
    "                memory_key_padding_mask: Tensor):\n",
    "        src_emb = self.positional_encoding(self.src_tok_emb(src))\n",
    "        tgt_emb = self.positional_encoding(self.tgt_tok_emb(trg))\n",
    "        outs = self.transformer(src_emb, tgt_emb, src_mask, tgt_mask, None, \n",
    "                                src_padding_mask, tgt_padding_mask, memory_key_padding_mask)\n",
    "        return self.generator(outs)\n",
    "\n",
    "    def encode(self, src: Tensor, src_mask: Tensor, src_padding_mask: Tensor = None):\n",
    "        return self.transformer.encoder(self.positional_encoding(\n",
    "                            self.src_tok_emb(src)), src_mask, src_padding_mask)\n",
    "\n",
    "    def decode(self, tgt: Tensor, memory: Tensor, tgt_mask: Tensor):\n",
    "        return self.transformer.decoder(self.positional_encoding(\n",
    "                          self.tgt_tok_emb(tgt)), memory,\n",
    "                          tgt_mask)"
   ]
  },
  {
   "cell_type": "markdown",
   "id": "227aae2a",
   "metadata": {
    "papermill": {
     "duration": 0.007012,
     "end_time": "2022-09-15T08:17:21.533570",
     "exception": false,
     "start_time": "2022-09-15T08:17:21.526558",
     "status": "completed"
    },
    "pycharm": {
     "name": "#%% md\n"
    },
    "tags": []
   },
   "source": [
    "Two different sets of masks are needed during training:\n",
    "- A subsequent word mask that will prevent model to look into the future words when making predictions.\n",
    "- A mask to hide source and target padding tokens and prevent to compute attention on them."
   ]
  },
  {
   "cell_type": "code",
   "execution_count": 9,
   "id": "3cf432d8",
   "metadata": {
    "collapsed": false,
    "execution": {
     "iopub.execute_input": "2022-09-15T08:17:21.549019Z",
     "iopub.status.busy": "2022-09-15T08:17:21.548755Z",
     "iopub.status.idle": "2022-09-15T08:17:21.555004Z",
     "shell.execute_reply": "2022-09-15T08:17:21.554143Z"
    },
    "jupyter": {
     "outputs_hidden": false
    },
    "papermill": {
     "duration": 0.015907,
     "end_time": "2022-09-15T08:17:21.556867",
     "exception": false,
     "start_time": "2022-09-15T08:17:21.540960",
     "status": "completed"
    },
    "pycharm": {
     "name": "#%%\n"
    },
    "tags": []
   },
   "outputs": [],
   "source": [
    "def generate_square_subsequent_mask(sz):\n",
    "    mask = (torch.triu(torch.ones((sz, sz), device=DEVICE)) == 1).transpose(0, 1)\n",
    "    mask = mask.float().masked_fill(mask == 0, float('-inf')).masked_fill(mask == 1, float(0.0))\n",
    "    return mask\n",
    "\n",
    "\n",
    "def create_mask(src, tgt):\n",
    "    src_seq_len = src.shape[0]\n",
    "    tgt_seq_len = tgt.shape[0]\n",
    "\n",
    "    tgt_mask = generate_square_subsequent_mask(tgt_seq_len)\n",
    "    src_mask = torch.zeros((src_seq_len, src_seq_len),device=DEVICE).type(torch.bool)\n",
    "\n",
    "    src_padding_mask = (src == PAD_IDX).transpose(0, 1)\n",
    "    tgt_padding_mask = (tgt == PAD_IDX).transpose(0, 1)\n",
    "    return src_mask, tgt_mask, src_padding_mask, tgt_padding_mask"
   ]
  },
  {
   "cell_type": "code",
   "execution_count": 10,
   "id": "f35e1872",
   "metadata": {
    "collapsed": false,
    "execution": {
     "iopub.execute_input": "2022-09-15T08:17:21.572215Z",
     "iopub.status.busy": "2022-09-15T08:17:21.571965Z",
     "iopub.status.idle": "2022-09-15T08:17:24.944348Z",
     "shell.execute_reply": "2022-09-15T08:17:24.943586Z"
    },
    "jupyter": {
     "outputs_hidden": false
    },
    "papermill": {
     "duration": 3.382182,
     "end_time": "2022-09-15T08:17:24.946271",
     "exception": false,
     "start_time": "2022-09-15T08:17:21.564089",
     "status": "completed"
    },
    "pycharm": {
     "name": "#%%\n"
    },
    "tags": []
   },
   "outputs": [
    {
     "data": {
      "image/png": "[encoded data removed]",
      "text/plain": [
       "<Figure size 432x288 with 1 Axes>"
      ]
     },
     "metadata": {
      "needs_background": "light"
     },
     "output_type": "display_data"
    }
   ],
   "source": [
    "example_mask = create_mask(src,tgt)\n",
    "_ = plt.imshow(example_mask[1].cpu(),cmap='hot')\n",
    "plt.show()"
   ]
  },
  {
   "cell_type": "markdown",
   "id": "459aa824",
   "metadata": {
    "papermill": {
     "duration": 0.007346,
     "end_time": "2022-09-15T08:17:24.961416",
     "exception": false,
     "start_time": "2022-09-15T08:17:24.954070",
     "status": "completed"
    },
    "pycharm": {
     "name": "#%% md\n"
    },
    "tags": []
   },
   "source": [
    "<a name=\"3\"></a>\n",
    "# 3. Model definition\n",
    "The network is instantiated as a  ``Seq2SeqTransformer`` object, where the following hyperparameters can be changed:\n",
    "- Embedding Size\n",
    "- Number of Transformer layers in the Encoder and Decoder\n",
    "- Units in the Feed Forward Network\n",
    "- Number of attention heads\n",
    "- The dropout between each sublayer of the Transformer and in the sum of the embeddings with the positional encoding\n"
   ]
  },
  {
   "cell_type": "code",
   "execution_count": 11,
   "id": "228c13f5",
   "metadata": {
    "collapsed": false,
    "execution": {
     "iopub.execute_input": "2022-09-15T08:17:24.978133Z",
     "iopub.status.busy": "2022-09-15T08:17:24.977848Z",
     "iopub.status.idle": "2022-09-15T08:17:25.328297Z",
     "shell.execute_reply": "2022-09-15T08:17:25.327294Z"
    },
    "jupyter": {
     "outputs_hidden": false
    },
    "papermill": {
     "duration": 0.361529,
     "end_time": "2022-09-15T08:17:25.330771",
     "exception": false,
     "start_time": "2022-09-15T08:17:24.969242",
     "status": "completed"
    },
    "pycharm": {
     "name": "#%%\n"
    },
    "tags": []
   },
   "outputs": [],
   "source": [
    "torch.manual_seed(0)\n",
    "\n",
    "VOCAB_SIZE = len(vocab_transform[SRC_LANGUAGE].vocab.itos_)\n",
    "EMB_SIZE = 200\n",
    "NHEAD = 2\n",
    "FFN_HID_DIM = 256\n",
    "BATCH_SIZE = 32\n",
    "NUM_ENCODER_LAYERS = 3\n",
    "NUM_DECODER_LAYERS = 3\n",
    "\n",
    "#To save and retrieve checkpoints\n",
    "model_name = 'transformer_%dE_%dH_%dF_%d_%d.pt'%(EMB_SIZE,NHEAD,FFN_HID_DIM,NUM_DECODER_LAYERS,NUM_DECODER_LAYERS)\n",
    "\n",
    "transformer = Seq2SeqTransformer(NUM_ENCODER_LAYERS, NUM_DECODER_LAYERS, EMB_SIZE, \n",
    "                                 NHEAD, VOCAB_SIZE, VOCAB_SIZE, FFN_HID_DIM)\n",
    "\n",
    "for p in transformer.parameters():\n",
    "    if p.dim() > 1:\n",
    "        nn.init.xavier_uniform_(p)\n",
    "\n",
    "transformer = transformer.to(DEVICE)\n",
    "\n",
    "loss_fn = torch.nn.CrossEntropyLoss(ignore_index=PAD_IDX,label_smoothing=0.0)\n",
    "\n",
    "optimizer = torch.optim.Adam(transformer.parameters(), lr=0.0001, betas=(0.9, 0.98), eps=1e-9)"
   ]
  },
  {
   "cell_type": "code",
   "execution_count": 12,
   "id": "4564da73",
   "metadata": {
    "collapsed": false,
    "execution": {
     "iopub.execute_input": "2022-09-15T08:17:25.347852Z",
     "iopub.status.busy": "2022-09-15T08:17:25.347105Z",
     "iopub.status.idle": "2022-09-15T08:17:25.358738Z",
     "shell.execute_reply": "2022-09-15T08:17:25.358061Z"
    },
    "jupyter": {
     "outputs_hidden": false
    },
    "papermill": {
     "duration": 0.021774,
     "end_time": "2022-09-15T08:17:25.360454",
     "exception": false,
     "start_time": "2022-09-15T08:17:25.338680",
     "status": "completed"
    },
    "pycharm": {
     "name": "#%%\n"
    },
    "tags": []
   },
   "outputs": [],
   "source": [
    "from torch.utils.data import DataLoader\n",
    "from torch.utils.data import IterableDataset\n",
    "\n",
    "def train_epoch(model, optimizer):\n",
    "    model.train()\n",
    "    losses = 0\n",
    "    train_iter = Hdf5Dataset(pl.Path(folder)/train_filename,num_entries=TRAIN_SAMPLES,randomized=True)\n",
    "    train_dataloader = DataLoader(train_iter, batch_size=BATCH_SIZE, collate_fn=collate_fn)\n",
    "\n",
    "    for src, tgt in train_dataloader:\n",
    "        src = src.to(DEVICE)\n",
    "        tgt = tgt.to(DEVICE)\n",
    "\n",
    "        tgt_input = tgt[:-1, :]\n",
    "\n",
    "        src_mask, tgt_mask, src_padding_mask, tgt_padding_mask = create_mask(src, tgt_input)\n",
    "\n",
    "        logits = model(src, tgt_input, src_mask, tgt_mask,src_padding_mask, tgt_padding_mask, src_padding_mask)\n",
    "\n",
    "        optimizer.zero_grad()\n",
    "\n",
    "        tgt_out = tgt[1:, :]\n",
    "        loss = loss_fn(logits.reshape(-1, logits.shape[-1]), tgt_out.reshape(-1))\n",
    "        loss.backward()\n",
    "\n",
    "        optimizer.step()\n",
    "        losses += loss.item()\n",
    "\n",
    "    return losses / len(train_dataloader)\n",
    "\n",
    "\n",
    "def evaluate(model):\n",
    "    model.eval()\n",
    "    losses = 0\n",
    "\n",
    "    val_iter = Hdf5Dataset(pl.Path(folder)/valid_filename,num_entries=VALID_SAMPLES)\n",
    "    val_dataloader = DataLoader(val_iter, batch_size=BATCH_SIZE, collate_fn=collate_fn)\n",
    "\n",
    "    for src, tgt in val_dataloader:\n",
    "        src = src.to(DEVICE)\n",
    "        tgt = tgt.to(DEVICE)\n",
    "\n",
    "        tgt_input = tgt[:-1, :]\n",
    "\n",
    "        src_mask, tgt_mask, src_padding_mask, tgt_padding_mask = create_mask(src, tgt_input)\n",
    "        with torch.no_grad():\n",
    "            logits = model(src, tgt_input, src_mask, tgt_mask,src_padding_mask, tgt_padding_mask, src_padding_mask)\n",
    "        \n",
    "        tgt_out = tgt[1:, :]\n",
    "        loss = loss_fn(logits.reshape(-1, logits.shape[-1]), tgt_out.reshape(-1))\n",
    "        losses += loss.item()\n",
    "\n",
    "    return losses / len(val_dataloader)"
   ]
  },
  {
   "cell_type": "markdown",
   "id": "3fd03d95",
   "metadata": {
    "papermill": {
     "duration": 0.007302,
     "end_time": "2022-09-15T08:17:25.375397",
     "exception": false,
     "start_time": "2022-09-15T08:17:25.368095",
     "status": "completed"
    },
    "pycharm": {
     "name": "#%% md\n"
    },
    "tags": []
   },
   "source": [
    "<a name=\"4\"></a>\n",
    "# 4. Training\n",
    "The training is performed on 20 epochs, and a checkpoint is saved at each epoch.\n",
    "\n",
    "I used the cross-entropy loss as the loss function and Adam optimizer for training.\n",
    "The regularization hyperparameters were chosen as in ([Vaswani et al. ,2017](<https://papers.nips.cc/paper/2017/file/3f5ee243547dee91fbd053c1c4a845aa-Paper.pdf>))\n",
    "\n",
    "## Label Smoothing\n",
    "Label smoothing is a regularization technique that introduces noise in the labels.\n",
    "This way, we can avoid to obtain a model that is over-confident on certain tokens (ex. the UNK token), and give a lesser probability also on other tokens."
   ]
  },
  {
   "cell_type": "code",
   "execution_count": 13,
   "id": "a33d6322",
   "metadata": {
    "collapsed": false,
    "execution": {
     "iopub.execute_input": "2022-09-15T08:17:25.391633Z",
     "iopub.status.busy": "2022-09-15T08:17:25.391330Z",
     "iopub.status.idle": "2022-09-15T08:17:25.394993Z",
     "shell.execute_reply": "2022-09-15T08:17:25.394153Z"
    },
    "jupyter": {
     "outputs_hidden": false
    },
    "papermill": {
     "duration": 0.013993,
     "end_time": "2022-09-15T08:17:25.396927",
     "exception": false,
     "start_time": "2022-09-15T08:17:25.382934",
     "status": "completed"
    },
    "pycharm": {
     "name": "#%%\n"
    },
    "tags": []
   },
   "outputs": [],
   "source": [
    "#checkpoint = torch.load(\"../input/transformer-1h-32b-nopt/transformer_glove100E_2H_128F_3_3.pt\")\n",
    "#transformer.load_state_dict(checkpoint['model_state_dict'])\n",
    "#optimizer.load_state_dict(checkpoint['optimizer_state_dict'])\n",
    "#epoch = checkpoint['epoch']"
   ]
  },
  {
   "cell_type": "code",
   "execution_count": 14,
   "id": "10b97a30",
   "metadata": {
    "collapsed": false,
    "execution": {
     "iopub.execute_input": "2022-09-15T08:17:25.412988Z",
     "iopub.status.busy": "2022-09-15T08:17:25.412725Z",
     "iopub.status.idle": "2022-09-15T10:07:21.830278Z",
     "shell.execute_reply": "2022-09-15T10:07:21.829147Z"
    },
    "jupyter": {
     "outputs_hidden": false
    },
    "papermill": {
     "duration": 6596.429688,
     "end_time": "2022-09-15T10:07:21.834142",
     "exception": false,
     "start_time": "2022-09-15T08:17:25.404454",
     "status": "completed"
    },
    "pycharm": {
     "name": "#%%\n"
    },
    "tags": []
   },
   "outputs": [
    {
     "name": "stdout",
     "output_type": "stream",
     "text": [
      "Epoch: 1, Train loss: 5.680, Val loss: 4.522, Epoch time = 304.710s\n",
      "Epoch: 2, Train loss: 4.154, Val loss: 3.273, Epoch time = 305.251s\n",
      "Epoch: 3, Train loss: 3.227, Val loss: 2.597, Epoch time = 303.636s\n",
      "Epoch: 4, Train loss: 2.685, Val loss: 2.244, Epoch time = 303.970s\n",
      "Epoch: 5, Train loss: 2.372, Val loss: 2.036, Epoch time = 304.199s\n",
      "Epoch: 6, Train loss: 2.181, Val loss: 1.926, Epoch time = 307.526s\n",
      "Epoch: 7, Train loss: 2.056, Val loss: 1.851, Epoch time = 305.221s\n",
      "Epoch: 8, Train loss: 1.962, Val loss: 1.793, Epoch time = 304.239s\n",
      "Epoch: 9, Train loss: 1.904, Val loss: 1.737, Epoch time = 306.198s\n",
      "Epoch: 10, Train loss: 1.857, Val loss: 1.702, Epoch time = 308.046s\n",
      "Epoch: 11, Train loss: 1.814, Val loss: 1.671, Epoch time = 307.094s\n",
      "Epoch: 12, Train loss: 1.778, Val loss: 1.650, Epoch time = 305.964s\n",
      "Epoch: 13, Train loss: 1.749, Val loss: 1.631, Epoch time = 308.917s\n",
      "Epoch: 14, Train loss: 1.725, Val loss: 1.606, Epoch time = 308.151s\n",
      "Epoch: 15, Train loss: 1.706, Val loss: 1.596, Epoch time = 312.260s\n",
      "Epoch: 16, Train loss: 1.690, Val loss: 1.571, Epoch time = 310.540s\n",
      "Epoch: 17, Train loss: 1.666, Val loss: 1.559, Epoch time = 310.133s\n",
      "Epoch: 18, Train loss: 1.654, Val loss: 1.551, Epoch time = 309.129s\n",
      "Epoch: 19, Train loss: 1.640, Val loss: 1.532, Epoch time = 309.080s\n",
      "Epoch: 20, Train loss: 1.632, Val loss: 1.523, Epoch time = 309.055s\n"
     ]
    }
   ],
   "source": [
    "from timeit import default_timer as timer\n",
    "NUM_EPOCHS = 20\n",
    "\n",
    "train_losses = []\n",
    "val_losses = []\n",
    "\n",
    "for epoch in range(1, NUM_EPOCHS+1):\n",
    "    start_time = timer()\n",
    "    train_loss = train_epoch(transformer, optimizer)\n",
    "    end_time = timer()\n",
    "    val_loss = evaluate(transformer)\n",
    "    print((f\"Epoch: {epoch}, Train loss: {train_loss:.3f}, Val loss: {val_loss:.3f}, \"f\"Epoch time = {(end_time - start_time):.3f}s\"))\n",
    "    train_losses.append(train_loss)\n",
    "    val_losses.append(val_loss)\n",
    "    torch.save({\n",
    "        'epoch': epoch,\n",
    "        'model_state_dict': transformer.state_dict(),\n",
    "        'optimizer_state_dict': optimizer.state_dict(),\n",
    "        'loss': val_loss,\n",
    "    }, pl.Path(checkpoint_folder)/model_name)"
   ]
  },
  {
   "cell_type": "code",
   "execution_count": 15,
   "id": "07dc805e",
   "metadata": {
    "collapsed": false,
    "execution": {
     "iopub.execute_input": "2022-09-15T10:07:21.857305Z",
     "iopub.status.busy": "2022-09-15T10:07:21.856938Z",
     "iopub.status.idle": "2022-09-15T10:07:22.038321Z",
     "shell.execute_reply": "2022-09-15T10:07:22.037542Z"
    },
    "jupyter": {
     "outputs_hidden": false
    },
    "papermill": {
     "duration": 0.193877,
     "end_time": "2022-09-15T10:07:22.040219",
     "exception": false,
     "start_time": "2022-09-15T10:07:21.846342",
     "status": "completed"
    },
    "pycharm": {
     "name": "#%%\n"
    },
    "tags": []
   },
   "outputs": [
    {
     "data": {
      "image/png": "[encoded data removed]",
      "text/plain": [
       "<Figure size 432x288 with 1 Axes>"
      ]
     },
     "metadata": {
      "needs_background": "light"
     },
     "output_type": "display_data"
    }
   ],
   "source": [
    "_ = plt.plot(train_losses)\n",
    "_ = plt.plot(val_losses)"
   ]
  },
  {
   "cell_type": "markdown",
   "id": "2116f50d",
   "metadata": {
    "papermill": {
     "duration": 0.009099,
     "end_time": "2022-09-15T10:07:22.059198",
     "exception": false,
     "start_time": "2022-09-15T10:07:22.050099",
     "status": "completed"
    },
    "pycharm": {
     "name": "#%% md\n"
    },
    "tags": []
   },
   "source": [
    "<a name=\"5\"></a>\n",
    "# 5. Evaluation\n",
    "\n",
    "## Greedy Search inference\n",
    "We can perform corrections of sentences using the ``greedy_decode`` function.\n",
    "In this function, at each timestep the most probable token is selected as correction at each time step, without evaluating its impact on the rest of the sequence.\n",
    "\n",
    "I provide a batched implementation of greedy search for higher inference speed, based on a simplification of [HuggingFace Pytorch implementation](https://github.com/huggingface/transformers/blob/8f2723caf0f1bf7e1f639d28d004f81c96d19bbc/src/transformers/generation_utils.py) .\n",
    "In this implementation, the model is forced to predict only PAD tokens after the character EOS is predicted, using the following formula:\n",
    "\n",
    "$$\\hat{y}_t = \\hat{y}_t * u_t + (1-u_t) * \\text{<PAD>}$$\n",
    "\n",
    "where $\\hat{y}_t$ is a vector containing the index of the highest probability word at time $t$ and $u_t$ is a boolean vector which is set to 1 if a EOS token is has not been predicted yet for the i-th sentence of the batch and 0 otherwise.\n",
    "The prediction ends if $u_t[i] == 0 \\; \\forall  i$ or if the maximum sequence length is reached."
   ]
  },
  {
   "cell_type": "code",
   "execution_count": 16,
   "id": "1d0ce963",
   "metadata": {
    "collapsed": false,
    "execution": {
     "iopub.execute_input": "2022-09-15T10:07:22.079417Z",
     "iopub.status.busy": "2022-09-15T10:07:22.079055Z",
     "iopub.status.idle": "2022-09-15T10:07:22.090966Z",
     "shell.execute_reply": "2022-09-15T10:07:22.090030Z"
    },
    "jupyter": {
     "outputs_hidden": false
    },
    "papermill": {
     "duration": 0.024712,
     "end_time": "2022-09-15T10:07:22.093230",
     "exception": false,
     "start_time": "2022-09-15T10:07:22.068518",
     "status": "completed"
    },
    "pycharm": {
     "name": "#%%\n"
    },
    "tags": []
   },
   "outputs": [],
   "source": [
    "# function to generate output sequence using greedy algorithm\n",
    "# input: (input_length,batch_size)\n",
    "# output: (input_length)\n",
    "def greedy_decode(model, src, src_mask, src_padding_mask, max_len):\n",
    "    batch_size = src.shape[1]\n",
    "\n",
    "    src = src.to(DEVICE)\n",
    "    src_mask = src_mask.to(DEVICE)\n",
    "    src_padding_mask = src_padding_mask.to(DEVICE)\n",
    "    unfinished_sequences = torch.ones(1,batch_size).to(DEVICE)\n",
    "\n",
    "    context = transformer.encode(src, src_mask,src_padding_mask).to(DEVICE)\n",
    "    ys = torch.ones(1, batch_size).fill_(BOS_IDX).type(torch.long).to(DEVICE)\n",
    "    for i in range(max_len-1):\n",
    "        tgt_mask = (generate_square_subsequent_mask(ys.size(0))\n",
    "                    .type(torch.bool)).to(DEVICE)\n",
    "        out = model.decode(ys, context, tgt_mask)\n",
    "        out = out.transpose(0, 1)\n",
    "        prob = model.generator(out[:, -1])\n",
    "        _, next_word = torch.max(prob,dim=1)\n",
    "\n",
    "        #Predict only PAD_IDX after EOS_IDX is predicted\n",
    "        next_word = next_word * unfinished_sequences + (1-unfinished_sequences) * PAD_IDX\n",
    "        ys = torch.cat([ys,\n",
    "                        next_word], dim=0)\n",
    "\n",
    "        # if eos_token was found in one sentence, set sentence to finished\n",
    "        unfinished_sequences = unfinished_sequences.mul((next_word != EOS_IDX).long())\n",
    "\n",
    "        # stop when each sentence is finished, or if we exceed the maximum length\n",
    "        if unfinished_sequences.max() == 0:\n",
    "            break\n",
    "    return ys.int()\n",
    "\n",
    "\n",
    "# actual function to correct input sentence\n",
    "def correct(src_sentence: str, model: torch.nn.Module):\n",
    "    model.eval()\n",
    "    src = text_transform[SRC_LANGUAGE](src_sentence).view(-1, 1)\n",
    "    num_tokens = src.shape[0]\n",
    "    src_mask = (torch.zeros(num_tokens, num_tokens)).type(torch.bool)\n",
    "    src_padding_mask = (torch.zeros(1, num_tokens)).type(torch.bool)\n",
    "    tgt_tokens = greedy_decode(\n",
    "        model,  src, src_mask,src_padding_mask, max_len=num_tokens + 5).flatten()\n",
    "    return ' '.join([vocab_transform[SRC_LANGUAGE].vocab.itos_[i] for i in tgt_tokens if i not in [PAD_IDX,BOS_IDX,EOS_IDX]])"
   ]
  },
  {
   "cell_type": "markdown",
   "id": "074c6cbf",
   "metadata": {
    "papermill": {
     "duration": 0.009016,
     "end_time": "2022-09-15T10:07:22.111492",
     "exception": false,
     "start_time": "2022-09-15T10:07:22.102476",
     "status": "completed"
    },
    "pycharm": {
     "name": "#%% md\n"
    },
    "tags": []
   },
   "source": [
    "A better way could be to use a ``Beam Search``, choosing $k$ tokens at each timestep and then scoring each node with its log probability."
   ]
  },
  {
   "cell_type": "code",
   "execution_count": 17,
   "id": "9d4a15ec",
   "metadata": {
    "collapsed": false,
    "execution": {
     "iopub.execute_input": "2022-09-15T10:07:22.131457Z",
     "iopub.status.busy": "2022-09-15T10:07:22.131094Z",
     "iopub.status.idle": "2022-09-15T10:07:22.475528Z",
     "shell.execute_reply": "2022-09-15T10:07:22.474678Z"
    },
    "jupyter": {
     "outputs_hidden": false
    },
    "papermill": {
     "duration": 0.357421,
     "end_time": "2022-09-15T10:07:22.478216",
     "exception": false,
     "start_time": "2022-09-15T10:07:22.120795",
     "status": "completed"
    },
    "pycharm": {
     "name": "#%%\n"
    },
    "tags": []
   },
   "outputs": [
    {
     "name": "stdout",
     "output_type": "stream",
     "text": [
      "input: \" I mean they tasted pretty good in smoothies and baked goods last year, but I wouldn’t find me just snimacing to snack those. \"\n",
      "target: \" I mean they tasted pretty good in smoothies and baked goods last year, but I wouldn’t find myself just snacking on them. \"\n",
      "prediction: \"i mean they taste pretty good in the same and baked goods last year , but i wouldn’t find me just <UNK> to snack those .\"\n"
     ]
    }
   ],
   "source": [
    "checkpoint = torch.load(pl.Path(checkpoint_folder)/model_name)\n",
    "transformer.load_state_dict(checkpoint['model_state_dict'])\n",
    "\n",
    "transformer.eval()\n",
    "\n",
    "# Pick one in 18M examples\n",
    "test_iter = Hdf5Dataset(pl.Path(folder)/test_filename,num_entries=None)\n",
    "\n",
    "src,trg = random.choice(test_iter)\n",
    "\n",
    "print(\"input: \\\"\",src,\"\\\"\")\n",
    "print(\"target: \\\"\",trg,\"\\\"\")\n",
    "\n",
    "prediction = correct(src,transformer)\n",
    "\n",
    "print(\"prediction: \\\"%s\\\"\"%prediction)"
   ]
  },
  {
   "cell_type": "markdown",
   "id": "e1549b4b",
   "metadata": {
    "papermill": {
     "duration": 0.009124,
     "end_time": "2022-09-15T10:07:22.497970",
     "exception": false,
     "start_time": "2022-09-15T10:07:22.488846",
     "status": "completed"
    },
    "pycharm": {
     "name": "#%% md\n"
    },
    "tags": []
   },
   "source": [
    "## Performance evaluation\n",
    "Performance is evaluated using the chrF score, which computes an F-score on character $n$-grams ([Popovi ́c, 2015](https://aclanthology.org/W15-3049/)).\n",
    "The formula for the chrF score is\n",
    "\n",
    "$$\\text{chrF}_\\beta = (1+ \\beta^2) \\frac{\\text{chrP} \\cdot \\text{chrR}}{\\beta^2 \\cdot \\text{chrP} + \\text{chrR}}$$\n",
    "\n",
    "where chrP and chrR are $n$-gram precision and recall averaged over all $n$-grams.\n",
    "\n",
    "In the experiments I used character $n$-grams between 1 and 6 and $\\beta=3$. White space between words is ignored during scoring."
   ]
  },
  {
   "cell_type": "code",
   "execution_count": 18,
   "id": "0798d4e4",
   "metadata": {
    "collapsed": false,
    "execution": {
     "iopub.execute_input": "2022-09-15T10:07:22.518139Z",
     "iopub.status.busy": "2022-09-15T10:07:22.517770Z",
     "iopub.status.idle": "2022-09-15T10:07:22.527276Z",
     "shell.execute_reply": "2022-09-15T10:07:22.526264Z"
    },
    "jupyter": {
     "outputs_hidden": false
    },
    "papermill": {
     "duration": 0.022213,
     "end_time": "2022-09-15T10:07:22.529533",
     "exception": false,
     "start_time": "2022-09-15T10:07:22.507320",
     "status": "completed"
    },
    "pycharm": {
     "name": "#%%\n"
    },
    "tags": []
   },
   "outputs": [],
   "source": [
    "from torch.utils.data import DataLoader\n",
    "from nltk.translate import chrf_score,bleu_score\n",
    "import re\n",
    "\n",
    "def test_collate_fn(batch):\n",
    "    src_batch, tgt_batch = [], []\n",
    "    for src_sample, tgt_sample in batch:\n",
    "        src_batch.append(text_transform[SRC_LANGUAGE](src_sample.rstrip(\"\\n\")))\n",
    "        tgt_batch.append(tgt_sample.rstrip(\"\\n\"))\n",
    "\n",
    "    src_batch = pad_sequence(src_batch, padding_value=PAD_IDX)\n",
    "    return src_batch, tgt_batch\n",
    "\n",
    "def test(model):\n",
    "    model.eval()\n",
    "    score = 0\n",
    "\n",
    "    test_iter = Hdf5Dataset(pl.Path(folder)/test_filename,num_entries=VALID_SAMPLES)\n",
    "    test_dataloader = DataLoader(test_iter, batch_size=64,collate_fn=test_collate_fn)\n",
    "    for src, tgt in test_dataloader:\n",
    "        src_mask, _, src_padding_mask, _ = create_mask(src, src)\n",
    "        num_tokens = src.shape[0]\n",
    "        with torch.no_grad():\n",
    "            pred_tokens = greedy_decode(\n",
    "                model,  src, src_mask,src_padding_mask, max_len=num_tokens + 5).T.flatten()\n",
    "            pred_sentences = ' '.join([vocab_transform[SRC_LANGUAGE].vocab.itos_[i] for i in pred_tokens if i not in [PAD_IDX,BOS_IDX,EOS_IDX]])\n",
    "            pred_sentences = re.sub(r'\\s([?.!,\"](?:\\s|$))', r'\\1', pred_sentences)\n",
    "        score += chrf_score.sentence_chrf(pred_sentences,' '.join(tgt).lower())\n",
    "\n",
    "    return score / len(test_dataloader)"
   ]
  },
  {
   "cell_type": "code",
   "execution_count": 19,
   "id": "3d7064b2",
   "metadata": {
    "collapsed": false,
    "execution": {
     "iopub.execute_input": "2022-09-15T10:07:22.550442Z",
     "iopub.status.busy": "2022-09-15T10:07:22.549895Z",
     "iopub.status.idle": "2022-09-15T10:14:13.111366Z",
     "shell.execute_reply": "2022-09-15T10:14:13.110495Z"
    },
    "jupyter": {
     "outputs_hidden": false
    },
    "papermill": {
     "duration": 410.584025,
     "end_time": "2022-09-15T10:14:13.123337",
     "exception": false,
     "start_time": "2022-09-15T10:07:22.539312",
     "status": "completed"
    },
    "pycharm": {
     "name": "#%%\n"
    },
    "tags": []
   },
   "outputs": [
    {
     "name": "stdout",
     "output_type": "stream",
     "text": [
      "0.7598374930134476\n"
     ]
    }
   ],
   "source": [
    "checkpoint = torch.load(pl.Path(checkpoint_folder)/model_name)\n",
    "transformer.load_state_dict(checkpoint['model_state_dict'])\n",
    "\n",
    "transformer.eval()\n",
    "\n",
    "# print(chrf_score.chrf_precision_recall_fscore_support('Thinking of hiring The Pass Street Food Cafe for your event?','thinking of hiring the pass street food cafe for your event',n=1))\n",
    "\n",
    "test_loss = test(transformer)\n",
    "print(test_loss)\n",
    "\n",
    "# bleu = bleu_score.sentence_bleu()\n",
    "#\n",
    "# test_loss = test(transformer,bleu)\n",
    "# print(test_loss)"
   ]
  },
  {
   "cell_type": "markdown",
   "id": "53fc1bee",
   "metadata": {
    "papermill": {
     "duration": 0.009189,
     "end_time": "2022-09-15T10:14:13.143292",
     "exception": false,
     "start_time": "2022-09-15T10:14:13.134103",
     "status": "completed"
    },
    "pycharm": {
     "name": "#%% md\n"
    },
    "tags": []
   },
   "source": [
    "<a name=\"6\"></a>\n",
    "# 6. Experiments\n",
    "\n",
    "## Attention heads\n",
    "I have evaluated how the number of attention heads is related with performance by training a transformer-based seq2seq model with 3 layers in both the encoder and decoder, with a number of attention heads ranging from 1 to 5.\n",
    "In rows (A), it is evident that in my case the number of attention heads does not bring an increase in performance: moreover, the model with 2 attention heads performs significantly worse than the model with a different number of attention heads\n",
    "\n",
    "## Feed Forward dimension\n",
    "A second experiment evaluated the performance of models with a different dimension of the feed forward network of each Transformer layer. The results in rows (B), show the dimension of the base model of 256 is already sufficient for a good performance and bigger networks did not perform better. This may be caused by the fact that more complex network require a more sophisticated training procedure to obtain greater performance.\n",
    "\n",
    "## Transformer layers\n",
    "A third experiment evaluated the performance of models with a different number of Transformer layers. In rows (C), the model with only 2 Transformer layers reached the same performance of the base model on the test set, while bigger models show worse performance.\n",
    "\n",
    "## Dropout\n",
    "The last experiment evaluated the performance of models by changing the dropout that is applied to the output of each sub-layer of the Transformer unit, and also to the sum of the embeddings and the positional encodings in both the encoder and the decoder. In Table 2 rows (D), the model without dropout shows lower perplexity, but shows worse performance on the chrF metric calculated on the test dataset, which confirms the importance of the  dropout to enable a better generalization of the model. Higher dropout values did not bring an improvement to the current training process.\n",
    "\n",
    "## Label smoothing\n",
    "The model with dropout and label smoothing achieved a chrF score slightly worse than the base model (which did not use label smoothing) , and a much higher perplexity score.\n",
    "\n",
    "\n",
    "|       | $N$ | $d_{\\text{model}}$ | $h$ | $P_{\\text{dropout}}$ | $\\varepsilon_{ls}$ | train epochs | PPL(valid) | chrF(test) | parameters $\\times 10^6$ |\n",
    "|-------|-----|--------------------|:---:|----------------------|--------------------|--------------|------------|------------|--------------------------|\n",
    "| base  | 3   | 256                | 1   | 0.1                  |                    | 20           | 5.91       | 0.74       | 6.7                      |\n",
    "| (A)   |     |                    | 2   |                      |                    |              | 6.03       | 0.58       | 6.7                      |\n",
    "| (A)   |     |                    | 4   |                      |                    |              | 5.93       | 0.74       | 6.7                      |\n",
    "| (A)   |     |                    | 5   |                      |                    |              | 6.02       | 0.73       | 6.7                      |\n",
    "| (B)   |     | 128                |     |                      |                    |              | 5.85       | 0.66       | 6.5                      |\n",
    "| (B)   |     | 512                |     |                      |                    |              | 7.77       | 0.52       | 7.0                      |\n",
    "| (C)   | 1   |                    |     |                      |                    |              | 6.99       | 0.65       | 6.2                      |\n",
    "| (C)   | 2   |                    |     |                      |                    |              | **5.85**   | **0.74**   | 6.5                      |\n",
    "| (C)   | 4   |                    |     |                      |                    |              | 7.92       | 0.66       | 6.9                      |\n",
    "| (C)   | 5   |                    |     |                      |                    |              | 7.97       | 0.51       | 7.1                      |\n",
    "| (D)   |     |                    |     | 0                    |                    |              | 4.78       | 0.46       | 6.7                      |\n",
    "| (D)   |     |                    |     | 0.2                  |                    |              | 7.51       | 0.74       | 6.7                      |\n",
    "| (D)   |     |                    |     | 0                    |                    |              |            |            |                          |\n",
    "| (D)   |     |                    |     | 0.1                  |                    |              |            |            |                          |\n",
    "| large | 6   | 1024               | 5   |                      |                    | 40           | 7.1        | 0.47       | 7.6                      |\n",
    "\n",
    "Other experiments where the vocabulary or the embeddings were changed\n",
    "\n",
    "| Model                                   | Embeddings                 | chrF |\n",
    "|-----------------------------------------|----------------------------|:----:|\n",
    "| Transformer (2 units, 2 Heads, FFN 128) | No pretraining (10K vocab) | 0.59 |\n",
    "| Transformer (2 units, 2 Heads, FFN 128) | No pretraining (20K vocab) | 0.64 |\n",
    "| Transformer (2 units, 2 Heads, FFN 128) | No pretraining (50K vocab) | 0.65 |\n",
    "| Transformer (2 units, 2 Heads, FFN 128) | GloVe Twitter 100D         | 0.47 |\n",
    "| Transformer (3 units, 5 Heads, FFN 256) | GloVe 6B 100D (50K vocab)  | 0.44 |"
   ]
  },
  {
   "cell_type": "markdown",
   "id": "3e60c319",
   "metadata": {
    "papermill": {
     "duration": 0.00904,
     "end_time": "2022-09-15T10:14:13.161465",
     "exception": false,
     "start_time": "2022-09-15T10:14:13.152425",
     "status": "completed"
    },
    "pycharm": {
     "name": "#%% md\n"
    },
    "tags": []
   },
   "source": [
    "<a name=\"7\"></a>\n",
    "# Results"
   ]
  },
  {
   "cell_type": "markdown",
   "id": "87874061",
   "metadata": {
    "papermill": {
     "duration": 0.009306,
     "end_time": "2022-09-15T10:14:13.180118",
     "exception": false,
     "start_time": "2022-09-15T10:14:13.170812",
     "status": "completed"
    },
    "pycharm": {
     "name": "#%% md\n"
    },
    "tags": []
   },
   "source": [
    "<a name=\"8\"></a>\n",
    "# References\n",
    "- [Attention is all you need](https://proceedings.neurips.cc/paper/2017/file/3f5ee243547dee91fbd053c1c4a845aa-Paper.pdf)\n",
    "- [Pytorch Transformer tutorials](https://pytorch.org/tutorials/beginner/translation_transformer.html#data-sourcing-and-processing)\n",
    "- [The annotated Transformer](https://nlp.seas.harvard.edu/annotated-transformer/)\n",
    "- [Speech and Language Processing](https://web.stanford.edu/~jurafsky/slp3/)"
   ]
  }
 ],
 "metadata": {
  "kernelspec": {
   "display_name": "Python 3",
   "language": "python",
   "name": "python3"
  },
  "language_info": {
   "codemirror_mode": {
    "name": "ipython",
    "version": 3
   },
   "file_extension": ".py",
   "mimetype": "text/x-python",
   "name": "python",
   "nbconvert_exporter": "python",
   "pygments_lexer": "ipython3",
   "version": "3.7.12"
  },
  "papermill": {
   "default_parameters": {},
   "duration": 7024.627845,
   "end_time": "2022-09-15T10:14:14.422212",
   "environment_variables": {},
   "exception": null,
   "input_path": "__notebook__.ipynb",
   "output_path": "__notebook__.ipynb",
   "parameters": {},
   "start_time": "2022-09-15T08:17:09.794367",
   "version": "2.3.4"
  }
 },
 "nbformat": 4,
 "nbformat_minor": 5
}
