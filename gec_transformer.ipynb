{
 "metadata": {
  "kernelspec": {
   "language": "python",
   "display_name": "Python 3",
   "name": "python3"
  },
  "language_info": {
   "name": "python",
   "version": "3.7.12",
   "mimetype": "text/x-python",
   "codemirror_mode": {
    "name": "ipython",
    "version": 3
   },
   "pygments_lexer": "ipython3",
   "nbconvert_exporter": "python",
   "file_extension": ".py"
  }
 },
 "nbformat_minor": 4,
 "nbformat": 4,
 "cells": [
  {
   "cell_type": "code",
   "source": "import nltk.translate.chrf_score\nimport random\nimport matplotlib.pyplot as plt\n%matplotlib inline\n#plt.switch_backend('agg')",
   "metadata": {
    "collapsed": false,
    "pycharm": {
     "name": "#%%\n"
    },
    "jupyter": {
     "outputs_hidden": false
    },
    "execution": {
     "iopub.status.busy": "2022-08-08T14:23:23.435629Z",
     "iopub.execute_input": "2022-08-08T14:23:23.436223Z",
     "iopub.status.idle": "2022-08-08T14:23:24.703234Z",
     "shell.execute_reply.started": "2022-08-08T14:23:23.436085Z",
     "shell.execute_reply": "2022-08-08T14:23:24.701593Z"
    },
    "trusted": true
   },
   "execution_count": 1,
   "outputs": []
  },
  {
   "cell_type": "markdown",
   "source": "Grammar Error Correction with Transformers\n======================================================\n\nThis notebook shows how to train a GEC model based on transformers.\n\nTable of Contents\n\n- [1. Data Sourcing and Processing](#1)\n    - Tokenizing and Embedding\n    - Collation\n- [2. Seq2Seq Network using Transformer](#2)\n    - Positional encoding\n    - Multi-head attention\n- [3. Model definition](#3)\n- [4. Training](#4)\n- [5. Evaluation](#5)\n- [6. Results](#6)\n- [7. References](#7)",
   "metadata": {
    "pycharm": {
     "name": "#%% md\n"
    }
   }
  },
  {
   "cell_type": "markdown",
   "source": "<a name='1'></a>\n# 1. Data Sourcing and Processing\n\nC4 200M dataset from Google Research is used in this notebook. You can find more information about the C4 200M dataset on Google Research's [BEA 2021 paper](https://aclanthology.org/2021.bea-1.4/) (Stahlberg and Kumar, 2021).\n\nThe already [processed dataset](https://huggingface.co/datasets/liweili/c4_200m) was extracted from Huggingface in CSV format, then was transformed to HDF5 format for better manageability. The conversion process is detailed in ``utils.py``, and was based on this [notebook](https://github.com/rasbt/deeplearning-models/blob/master/pytorch_ipynb/mechanics/custom-data-loader-csv.ipynb).\nThe final version of the dataset is uploaded on [Kaggle](https://www.kaggle.com/datasets/dariocioni/c4200m).\n\nA custom class ``Hdf5Dataset`` based on ``torch.utils.data.Dataset`` is developed, which yields a pair of source-target raw sentences.\n\n| source                                             | target                                                  |\n|----------------------------------------------------|---------------------------------------------------------|\n| Much many brands and sellers still in the market.  | Many brands and sellers still in the market.            |\n| She likes playing in park and come here every week | She likes playing in the park and comes here every week |\n\nTo be able to train on a arbitrary subset of a single file, the dataset only reads chunks of length ``num_entries`` if the parameter is specified . In order to capture more examples, a different chunk can be randomly chosen at each epoch by specifying ``randomized=True``",
   "metadata": {
    "pycharm": {
     "name": "#%% md\n"
    }
   }
  },
  {
   "cell_type": "code",
   "source": "# Import libraries\nimport torch\nimport pathlib as pl",
   "metadata": {
    "collapsed": false,
    "pycharm": {
     "name": "#%%\n"
    },
    "jupyter": {
     "outputs_hidden": false
    },
    "execution": {
     "iopub.status.busy": "2022-08-08T14:23:24.709437Z",
     "iopub.execute_input": "2022-08-08T14:23:24.712272Z",
     "iopub.status.idle": "2022-08-08T14:23:26.979162Z",
     "shell.execute_reply.started": "2022-08-08T14:23:24.712226Z",
     "shell.execute_reply": "2022-08-08T14:23:26.977920Z"
    },
    "trusted": true
   },
   "execution_count": 2,
   "outputs": []
  },
  {
   "cell_type": "code",
   "source": "import h5py\nfrom torch.utils.data import Dataset\nrandom.seed(42)\n\nclass Hdf5Dataset(Dataset):\n    \"\"\"Custom Dataset for loading entries from HDF5 databases\"\"\"\n\n    def __init__(self, h5_path, transform=None,num_entries = None,randomized=False):\n\n        self.h5f = h5py.File(h5_path, 'r')\n        self.size = self.h5f['labels'].shape[0]\n        self.transform = transform\n        self.randomized = randomized\n        self.max_index = num_entries if num_entries is not None else self.size\n        #Chooses an offset for the dataset when using a subset of a Hdf5 file\n        if randomized:\n            self.offset = random.choice(range(0,self.size//self.max_index))*self.max_index\n        else:\n            self.offset = 0\n\n\n    def __getitem__(self, index):\n        if index > self.max_index:\n            raise StopIteration\n        input = self.h5f['input'][self.offset+index].decode('utf-8')\n        label = self.h5f['labels'][self.offset+index].decode('utf-8')\n        if self.transform is not None:\n            features = self.transform(input)\n        return input, label\n\n    def __len__(self):\n        return self.max_index\n\n    def reshuffle(self):\n        if self.randomized:\n            self.offset = random.choice(range(0,self.size//self.max_index))*self.max_index\n        else:\n            print(\"Please set randomized=True\")",
   "metadata": {
    "collapsed": false,
    "pycharm": {
     "name": "#%%\n"
    },
    "jupyter": {
     "outputs_hidden": false
    },
    "execution": {
     "iopub.status.busy": "2022-08-08T14:23:26.981658Z",
     "iopub.execute_input": "2022-08-08T14:23:26.984165Z",
     "iopub.status.idle": "2022-08-08T14:23:27.176915Z",
     "shell.execute_reply.started": "2022-08-08T14:23:26.984117Z",
     "shell.execute_reply": "2022-08-08T14:23:27.175571Z"
    },
    "trusted": true
   },
   "execution_count": 3,
   "outputs": []
  },
  {
   "cell_type": "code",
   "source": "from typing import List\nfrom tqdm import tqdm\nfrom torchtext.data import get_tokenizer\n\nSRC_LANGUAGE = 'incorrect'\nTGT_LANGUAGE = 'correct'\nMAX_LENGTH = 5000\nVOCAB_SIZE = 20000\n\nTRAIN_SAMPLES = 100000\nVALID_SAMPLES = 10000\n\n# Place-holders\ntoken_transform =get_tokenizer('basic_english')\nvocab_transform = None\n\n# folder = 'dataset'\n# train_filename = 'train.hf5'\n# valid_filename = 'valid.hf5'\n# test_filename = 'test.hf5'\n# vocab_path = 'vocab/vocab_20K.pth'\n# embedding_path = 'vocab/glove_42B_300d_20K.pth'\n# checkpoint_folder = 'G:\\Il mio Drive\\Colab Notebooks\\GEC_Soft_Masked_BERT\\checkpoints'\n\n##COLAB\nfolder = '../input/c4200m/hdf5'\ntrain_filename = 'C4_200M.hf5-00000-of-00010'\nvalid_filename = 'C4_200M.hf5-00001-of-00010'\ntest_filename = 'C4_200M.hf5-00002-of-00010'\n# embedding_path = '/content/drive/MyDrive/Colab Notebooks/GEC_Soft_Masked_BERT/vocab/glove_42B_300d_20K.pth'\n# vocab_path = '/content/drive/MyDrive/Colab Notebooks/GEC_Soft_Masked_BERT/vocab/vocab_20K.pth'\ncheckpoint_folder = './'",
   "metadata": {
    "collapsed": false,
    "pycharm": {
     "name": "#%%\n"
    },
    "jupyter": {
     "outputs_hidden": false
    },
    "execution": {
     "iopub.status.busy": "2022-08-08T14:53:25.840313Z",
     "iopub.execute_input": "2022-08-08T14:53:25.841110Z",
     "iopub.status.idle": "2022-08-08T14:53:25.849629Z",
     "shell.execute_reply.started": "2022-08-08T14:53:25.841074Z",
     "shell.execute_reply": "2022-08-08T14:53:25.847844Z"
    },
    "trusted": true
   },
   "execution_count": 18,
   "outputs": []
  },
  {
   "cell_type": "markdown",
   "source": "### Tokenizing and Embedding\nData is then tokenized by the standard tokenizer from ``torchtext`` library, which performs basic normalization and splitting by space. Normalization includes\n- lowercasing\n- complete some basic text normalization for English words as follows:\n    add spaces before and after '\\''\n    remove '\\\"',\n    add spaces before and after '.'\n    replace '<br \\/>'with single space\n    add spaces before and after ','\n    add spaces before and after '('\n    add spaces before and after ')'\n    add spaces before and after '!'\n    add spaces before and after '?'\n    replace ';' with single space\n    replace ':' with single space\n    replace multiple spaces with single space\n\nA vocabulary was produced based on 1M samples of the training dataset, using ``build_vocab`` function inside ``vocab.py``.\n\nI then evaluated pre-trained embeddings and confronted with the nn.Embedding, both with embeddings of length 300.\n- ``GloVe`` Embeddings were trained on Common Crawl (42B tokens, 1.9M vocab, uncased, 300d vectors)\n- Pretrained embeddings were aligned with the vocabulary using ``load_pretrained_embs`` function inside ``vocab.py``.",
   "metadata": {
    "pycharm": {
     "name": "#%% md\n"
    }
   }
  },
  {
   "cell_type": "code",
   "source": "import torchtext as text\nimport numpy as np\nimport torch\n\nUNK_IDX, PAD_IDX, BOS_IDX, EOS_IDX = 0, 1, 2, 3\n# # Make sure the tokens are in order of their indices to properly insert them in vocab\nspecial_symbols = ['<UNK>','<PAD>', '<BOS>', '<EOS>']\n\ndef pretrained_embs(name: str, dim: str,max_vectors: int=None):\n    glove_vectors = text.vocab.GloVe(name=name,dim=dim,max_vectors=max_vectors)\n    glove_vocab = text.vocab.vocab(glove_vectors.stoi)\n    pretrained_embeddings = glove_vectors.vectors\n    glove_vocab.insert_token('<UNK>',UNK_IDX)\n    pretrained_embeddings = torch.cat((torch.mean(pretrained_embeddings,dim=0,keepdims=True),pretrained_embeddings))\n    glove_vocab.insert_token('<PAD>',PAD_IDX)\n    pretrained_embeddings = torch.cat((torch.zeros(1,pretrained_embeddings.shape[1]),pretrained_embeddings))\n    glove_vocab.insert_token('<BOS>',PAD_IDX)\n    pretrained_embeddings = torch.cat((torch.rand(1,pretrained_embeddings.shape[1]),pretrained_embeddings))\n    glove_vocab.insert_token('<EOS>',PAD_IDX)\n    pretrained_embeddings = torch.cat((torch.rand(1,pretrained_embeddings.shape[1]),pretrained_embeddings))\n    glove_vocab.set_default_index(UNK_IDX)\n    return glove_vocab,pretrained_embeddings\n\nvocab_transform, embeddings = pretrained_embs('6B','100',50000)\n\n# vocab_transform = torch.load(vocab_path)\n# embeddings = torch.load(embedding_path)\n# embeddings = None",
   "metadata": {
    "collapsed": false,
    "pycharm": {
     "name": "#%%\n"
    },
    "jupyter": {
     "outputs_hidden": false
    },
    "execution": {
     "iopub.status.busy": "2022-08-08T14:54:47.138941Z",
     "iopub.execute_input": "2022-08-08T14:54:47.139758Z",
     "iopub.status.idle": "2022-08-08T14:54:47.442447Z",
     "shell.execute_reply.started": "2022-08-08T14:54:47.139658Z",
     "shell.execute_reply": "2022-08-08T14:54:47.441198Z"
    },
    "trusted": true
   },
   "execution_count": 24,
   "outputs": []
  },
  {
   "cell_type": "markdown",
   "source": "### Collation\n\nAn iterator over ``Hdf5dataset`` yields a pair of raw strings.\nWe need to convert these string pairs into the batched tensors that can be processed by our ``Seq2Seq`` network.\nBelow I defined a collate function that converts batch of raw strings into batch tensors that can be fed directly into the model.",
   "metadata": {
    "pycharm": {
     "name": "#%% md\n"
    }
   }
  },
  {
   "cell_type": "code",
   "source": "from torch.nn.utils.rnn import pad_sequence\n\n# helper function to club together sequential operations\ndef sequential_transforms(*transforms):\n    def func(txt_input):\n        for transform in transforms:\n            txt_input = transform(txt_input)\n        return txt_input\n    return func\n\n# def glove_transform(tokens: List[str]):\n\n# function to add BOS/EOS and create tensor for input sequence indices\ndef tensor_transform(token_ids: List[int]):\n    #truncate sequences longer than MAX_LENGTH\n    if(len(token_ids) > MAX_LENGTH - 2):\n        token_ids = token_ids[0:MAX_LENGTH -2]\n    return torch.cat((torch.tensor([BOS_IDX]),\n                      torch.tensor(token_ids),\n                      torch.tensor([EOS_IDX])))\n\n# src and tgt language text transforms to convert raw strings into tensors indices\ntext_transform = sequential_transforms(token_transform,\n                                       vocab_transform,\n                                       tensor_transform) # Add BOS/EOS and create tensor\n\n\n# function to collate data samples into batch tesors\ndef collate_fn(batch):\n    src_batch, tgt_batch = [], []\n    for src_sample, tgt_sample in batch:\n        src_batch.append(text_transform(src_sample.rstrip(\"\\n\")))\n        tgt_batch.append(text_transform(tgt_sample.rstrip(\"\\n\")))\n\n    src_batch = pad_sequence(src_batch, padding_value=PAD_IDX)\n    tgt_batch = pad_sequence(tgt_batch, padding_value=PAD_IDX)\n    return src_batch, tgt_batch",
   "metadata": {
    "collapsed": false,
    "pycharm": {
     "name": "#%%\n"
    },
    "jupyter": {
     "outputs_hidden": false
    },
    "execution": {
     "iopub.status.busy": "2022-08-08T14:26:40.845416Z",
     "iopub.execute_input": "2022-08-08T14:26:40.846680Z",
     "iopub.status.idle": "2022-08-08T14:26:40.859106Z",
     "shell.execute_reply.started": "2022-08-08T14:26:40.846626Z",
     "shell.execute_reply": "2022-08-08T14:26:40.857810Z"
    },
    "trusted": true
   },
   "execution_count": 6,
   "outputs": []
  },
  {
   "cell_type": "markdown",
   "source": "Here's an example of the encoding",
   "metadata": {
    "pycharm": {
     "name": "#%% md\n"
    }
   }
  },
  {
   "cell_type": "code",
   "source": "text = ('Data Maining is awesome!','Data Mining is awesome!')\nsrc,tgt = collate_fn([text])\nprint(src,tgt)",
   "metadata": {
    "collapsed": false,
    "pycharm": {
     "name": "#%%\n"
    },
    "jupyter": {
     "outputs_hidden": false
    },
    "execution": {
     "iopub.status.busy": "2022-08-08T14:26:40.861171Z",
     "iopub.execute_input": "2022-08-08T14:26:40.861770Z",
     "iopub.status.idle": "2022-08-08T14:26:40.883363Z",
     "shell.execute_reply.started": "2022-08-08T14:26:40.861690Z",
     "shell.execute_reply": "2022-08-08T14:26:40.881721Z"
    },
    "trusted": true
   },
   "execution_count": 7,
   "outputs": [
    {
     "name": "stdout",
     "text": "tensor([[    2],\n        [  936],\n        [    0],\n        [   17],\n        [13605],\n        [  808],\n        [    3]]) tensor([[    2],\n        [  936],\n        [ 3227],\n        [   17],\n        [13605],\n        [  808],\n        [    3]])\n",
     "output_type": "stream"
    }
   ]
  },
  {
   "cell_type": "markdown",
   "source": "<a name='2'></a>\n# 2. Seq2Seq Network using Transformer\n\nTransformer is a Seq2Seq model introduced in [“Attention is all you need”](<https://papers.nips.cc/paper/2017/file/3f5ee243547dee91fbd053c1c4a845aa-Paper.pdf>) paper for solving machine translation tasks.\nBelow, we will create a Seq2Seq network that uses Transformer. The network consists of three parts:\n1) The embedding layer. This layer converts tensor of input indices into corresponding tensor of input embeddings.\n    These embedding are further augmented with ``Positional Encodings``, to provide position information of input tokens to the model.\n2) The actual [Transformer](<https://pytorch.org/docs/stable/generated/torch.nn.Transformer.html>) model.\n3) The output of Transformer model is finally passed through a linear layer that give un-normalized probabilities for each token in the target language.\n\n### Positional Encoding\nDifferently from RNNs, Transformers don't have a notion of relative or absolute position of the tokens in the input.\nOne solution is to combine the input embeddings with positional embeddings, specific to each position in an input sequence.\nA solution that is not biased towards the initial positions consists in a combination of sine and cosine functions of different frequencies ([Vaswani et al. ,2017](<https://papers.nips.cc/paper/2017/file/3f5ee243547dee91fbd053c1c4a845aa-Paper.pdf>))\n\nGiven an embedding of length $d$, a position in the sequence $pos$ and the $i$-th dimension of the embedding, the position embedding is calculated as\n\n$$PE_{(pos,2i)} = \\sin(pos/10000^{2i/d})\\quad,\\quad PE_{(pos,2i+1)} = \\cos(pos/10000^{2i/d})$$\n\nDropout is also added to the sums of the embeddings and the positional encodings in both the encoder and decoder.\n\n<img src=\"https://github.com/ciodar/GEC_Methods/blob/master/img/pos_enc.png?raw=true\">\n\n### Multi-head attention\nA single transformer block cannot capture all the different kinds of simultaneous relations among its inputs.\nTo address this problem, Transformers can use multiple self-attention heads, residing in parallel layers and with different parameter sets.\nEach head $i$ will have a different set of key, query and value matrices $W_i^K,W_i^Q,W_i^V$ and will project into different embeddings for each head.\nThe different embeddings are finally reduced to the original input dimension, using a trainable linear projection $W^O$\n\n<img src=\"https://github.com/ciodar/GEC_Methods/blob/master/img/pos_enc.png?raw=true\">\n\n\n",
   "metadata": {
    "pycharm": {
     "name": "#%% md\n"
    }
   }
  },
  {
   "cell_type": "code",
   "source": "from torch import Tensor\nimport torch\nimport torch.nn as nn\nfrom torch.nn import Transformer\n\nimport math\nDEVICE = torch.device('cuda' if torch.cuda.is_available() else 'cpu')\n\n# helper Module that adds positional encoding to the token embedding to introduce a notion of word order.\nclass PositionalEncoding(nn.Module):\n    def __init__(self,\n                 emb_size: int,\n                 dropout: float,\n                 maxlen: int = 5000):\n        super(PositionalEncoding, self).__init__()\n        den = torch.exp(- torch.arange(0, emb_size, 2)* math.log(10000) / emb_size)\n        pos = torch.arange(0, maxlen).reshape(maxlen, 1)\n        pos_embedding = torch.zeros((maxlen, emb_size))\n        pos_embedding[:, 0::2] = torch.sin(pos * den)\n        pos_embedding[:, 1::2] = torch.cos(pos * den)\n        pos_embedding = pos_embedding.unsqueeze(-2)\n\n        self.dropout = nn.Dropout(dropout)\n        self.register_buffer('pos_embedding', pos_embedding)\n\n    def forward(self, token_embedding: Tensor):\n        return self.dropout(token_embedding + self.pos_embedding[:token_embedding.size(0), :])\n\n# helper Module to convert tensor of input indices into corresponding tensor of token embeddings\nclass TokenEmbedding(nn.Module):\n    def __init__(self, vocab_size: int, emb_size,embedding_weights=None):\n        super(TokenEmbedding, self).__init__()\n        if embedding_weights is not None:\n            self.embedding = nn.Embedding.from_pretrained(embedding_weights,freeze=True,padding_idx=PAD_IDX)\n        else:\n            self.embedding = nn.Embedding(vocab_size, emb_size)\n\n            # self.embedding.weight.requires_grad =False\n        self.emb_size = emb_size\n\n    def forward(self, tokens: Tensor):\n        return self.embedding(tokens.long()) * math.sqrt(self.emb_size)\n\n# Seq2Seq Network \nclass Seq2SeqTransformer(nn.Module):\n    def __init__(self,\n                 num_encoder_layers: int,\n                 num_decoder_layers: int,\n                 emb_size: int,\n                 nhead: int,\n                 src_vocab_size: int,\n                 tgt_vocab_size: int,\n                 dim_feedforward: int = 100,\n                 dropout: float = 0.1,\n                 embedding_weights = None):\n        super(Seq2SeqTransformer, self).__init__()\n        self.transformer = Transformer(d_model=emb_size,\n                                       nhead=nhead,\n                                       num_encoder_layers=num_encoder_layers,\n                                       num_decoder_layers=num_decoder_layers,\n                                       dim_feedforward=dim_feedforward,\n                                       dropout=dropout)\n        self.generator = nn.Linear(emb_size, tgt_vocab_size)\n        self.src_tok_emb = TokenEmbedding(src_vocab_size, emb_size,embedding_weights)\n        self.tgt_tok_emb = TokenEmbedding(tgt_vocab_size, emb_size,embedding_weights)\n        self.positional_encoding = PositionalEncoding(\n            emb_size, dropout=dropout)\n\n    def forward(self,\n                src: Tensor,\n                trg: Tensor,\n                src_mask: Tensor,\n                tgt_mask: Tensor,\n                src_padding_mask: Tensor,\n                tgt_padding_mask: Tensor,\n                memory_key_padding_mask: Tensor):\n        src_emb = self.positional_encoding(self.src_tok_emb(src))\n        tgt_emb = self.positional_encoding(self.tgt_tok_emb(trg))\n        outs = self.transformer(src_emb, tgt_emb, src_mask, tgt_mask, None, \n                                src_padding_mask, tgt_padding_mask, memory_key_padding_mask)\n        return self.generator(outs)\n\n    def encode(self, src: Tensor, src_mask: Tensor, src_padding_mask: Tensor = None):\n        return self.transformer.encoder(self.positional_encoding(\n                            self.src_tok_emb(src)), src_mask, src_padding_mask)\n\n    def decode(self, tgt: Tensor, memory: Tensor, tgt_mask: Tensor):\n        return self.transformer.decoder(self.positional_encoding(\n                          self.tgt_tok_emb(tgt)), memory,\n                          tgt_mask)",
   "metadata": {
    "collapsed": false,
    "pycharm": {
     "name": "#%%\n"
    },
    "jupyter": {
     "outputs_hidden": false
    },
    "execution": {
     "iopub.status.busy": "2022-08-08T14:26:40.885459Z",
     "iopub.execute_input": "2022-08-08T14:26:40.886466Z",
     "iopub.status.idle": "2022-08-08T14:26:41.010491Z",
     "shell.execute_reply.started": "2022-08-08T14:26:40.886411Z",
     "shell.execute_reply": "2022-08-08T14:26:41.009007Z"
    },
    "trusted": true
   },
   "execution_count": 8,
   "outputs": []
  },
  {
   "cell_type": "markdown",
   "source": "During training, we need a subsequent word mask that will prevent model to look into the future words when making predictions. We will also need masks to hide source and target padding tokens. Below, let's define a function that will take care of both.\n\n\n",
   "metadata": {
    "pycharm": {
     "name": "#%% md\n"
    }
   }
  },
  {
   "cell_type": "code",
   "source": "def generate_square_subsequent_mask(sz):\n    mask = (torch.triu(torch.ones((sz, sz), device=DEVICE)) == 1).transpose(0, 1)\n    mask = mask.float().masked_fill(mask == 0, float('-inf')).masked_fill(mask == 1, float(0.0))\n    return mask\n\n\ndef create_mask(src, tgt):\n    src_seq_len = src.shape[0]\n    tgt_seq_len = tgt.shape[0]\n\n    tgt_mask = generate_square_subsequent_mask(tgt_seq_len)\n    src_mask = torch.zeros((src_seq_len, src_seq_len),device=DEVICE).type(torch.bool)\n\n    src_padding_mask = (src == PAD_IDX).transpose(0, 1)\n    tgt_padding_mask = (tgt == PAD_IDX).transpose(0, 1)\n    return src_mask, tgt_mask, src_padding_mask, tgt_padding_mask",
   "metadata": {
    "collapsed": false,
    "pycharm": {
     "name": "#%%\n"
    },
    "jupyter": {
     "outputs_hidden": false
    },
    "execution": {
     "iopub.status.busy": "2022-08-08T14:26:41.013673Z",
     "iopub.execute_input": "2022-08-08T14:26:41.014653Z",
     "iopub.status.idle": "2022-08-08T14:26:41.027230Z",
     "shell.execute_reply.started": "2022-08-08T14:26:41.014593Z",
     "shell.execute_reply": "2022-08-08T14:26:41.025516Z"
    },
    "trusted": true
   },
   "execution_count": 9,
   "outputs": []
  },
  {
   "cell_type": "code",
   "source": "example_mask = create_mask(src,tgt)\n_ = plt.imshow(example_mask[1].cpu(),cmap='hot')\nplt.show()",
   "metadata": {
    "collapsed": false,
    "pycharm": {
     "name": "#%%\n"
    },
    "jupyter": {
     "outputs_hidden": false
    },
    "execution": {
     "iopub.status.busy": "2022-08-08T14:26:41.032203Z",
     "iopub.execute_input": "2022-08-08T14:26:41.032735Z",
     "iopub.status.idle": "2022-08-08T14:26:45.151287Z",
     "shell.execute_reply.started": "2022-08-08T14:26:41.032703Z",
     "shell.execute_reply": "2022-08-08T14:26:45.150176Z"
    },
    "trusted": true
   },
   "execution_count": 10,
   "outputs": [
    {
     "output_type": "display_data",
     "data": {
      "text/plain": "<Figure size 432x288 with 1 Axes>",
      "image/png": "[encoded data removed]"
     },
     "metadata": {
      "needs_background": "light"
     }
    }
   ]
  },
  {
   "cell_type": "markdown",
   "source": "<a name=\"3\"></a>\n# 3. Model definition\nThe model is instantiated in the ``Seq2SeqTransformer`` wrapper.\nI used the cross-entropy loss as the loss function and Adam optimizer for training.\nThe regularization hyperparameters were chosen as in ([Vaswani et al. ,2017](<https://papers.nips.cc/paper/2017/file/3f5ee243547dee91fbd053c1c4a845aa-Paper.pdf>))",
   "metadata": {
    "pycharm": {
     "name": "#%% md\n"
    }
   }
  },
  {
   "cell_type": "code",
   "source": "torch.manual_seed(0)\n\nVOCAB_SIZE = len(vocab_transform.vocab.itos_)\nEMB_SIZE = 100\nNHEAD = 2\nFFN_HID_DIM = 128\nBATCH_SIZE = 16\nNUM_ENCODER_LAYERS = 3\nNUM_DECODER_LAYERS = 3\n\n#To save and retrieve checkpoints\nmodel_name = 'transformer_%dE_%dH_%dF_%d_%d.pt'%(EMB_SIZE,NHEAD,FFN_HID_DIM,NUM_DECODER_LAYERS,NUM_DECODER_LAYERS)\n\ntransformer = Seq2SeqTransformer(NUM_ENCODER_LAYERS, NUM_DECODER_LAYERS, EMB_SIZE, \n                                 NHEAD, VOCAB_SIZE, VOCAB_SIZE, FFN_HID_DIM,embedding_weights=embeddings)\n\nfor p in transformer.parameters():\n    if p.dim() > 1:\n        nn.init.xavier_uniform_(p)\n\ntransformer = transformer.to(DEVICE)\n\nloss_fn = torch.nn.CrossEntropyLoss(ignore_index=PAD_IDX)\n\noptimizer = torch.optim.Adam(transformer.parameters(), lr=0.0001, betas=(0.9, 0.98), eps=1e-9)",
   "metadata": {
    "collapsed": false,
    "pycharm": {
     "name": "#%%\n"
    },
    "jupyter": {
     "outputs_hidden": false
    },
    "execution": {
     "iopub.status.busy": "2022-08-08T14:26:45.154317Z",
     "iopub.execute_input": "2022-08-08T14:26:45.155127Z",
     "iopub.status.idle": "2022-08-08T14:26:45.433908Z",
     "shell.execute_reply.started": "2022-08-08T14:26:45.155083Z",
     "shell.execute_reply": "2022-08-08T14:26:45.432543Z"
    },
    "trusted": true
   },
   "execution_count": 11,
   "outputs": []
  },
  {
   "cell_type": "code",
   "source": "from torch.utils.data import DataLoader\nfrom torch.utils.data import IterableDataset\n\ndef train_epoch(model, optimizer):\n    model.train()\n    losses = 0\n    train_iter = Hdf5Dataset(pl.Path(folder)/train_filename,num_entries=TRAIN_SAMPLES,randomized=True)\n    train_dataloader = DataLoader(train_iter, batch_size=BATCH_SIZE, collate_fn=collate_fn)\n\n    for src, tgt in tqdm(train_dataloader):\n        src = src.to(DEVICE)\n        tgt = tgt.to(DEVICE)\n\n        tgt_input = tgt[:-1, :]\n\n        src_mask, tgt_mask, src_padding_mask, tgt_padding_mask = create_mask(src, tgt_input)\n\n        logits = model(src, tgt_input, src_mask, tgt_mask,src_padding_mask, tgt_padding_mask, src_padding_mask)\n\n        optimizer.zero_grad()\n\n        tgt_out = tgt[1:, :]\n        loss = loss_fn(logits.reshape(-1, logits.shape[-1]), tgt_out.reshape(-1))\n        loss.backward()\n\n        optimizer.step()\n        losses += loss.item()\n\n    return losses / len(train_dataloader)\n\n\ndef evaluate(model):\n    model.eval()\n    losses = 0\n\n    val_iter = Hdf5Dataset(pl.Path(folder)/valid_filename,num_entries=VALID_SAMPLES)\n    val_dataloader = DataLoader(val_iter, batch_size=BATCH_SIZE, collate_fn=collate_fn)\n\n    for src, tgt in tqdm(val_dataloader):\n        src = src.to(DEVICE)\n        tgt = tgt.to(DEVICE)\n\n        tgt_input = tgt[:-1, :]\n\n        src_mask, tgt_mask, src_padding_mask, tgt_padding_mask = create_mask(src, tgt_input)\n        with torch.no_grad():\n            logits = model(src, tgt_input, src_mask, tgt_mask,src_padding_mask, tgt_padding_mask, src_padding_mask)\n        \n        tgt_out = tgt[1:, :]\n        loss = loss_fn(logits.reshape(-1, logits.shape[-1]), tgt_out.reshape(-1))\n        losses += loss.item()\n\n    return losses / len(val_dataloader)\n\n",
   "metadata": {
    "collapsed": false,
    "pycharm": {
     "name": "#%%\n"
    },
    "jupyter": {
     "outputs_hidden": false
    },
    "execution": {
     "iopub.status.busy": "2022-08-08T14:26:45.435586Z",
     "iopub.execute_input": "2022-08-08T14:26:45.436122Z",
     "iopub.status.idle": "2022-08-08T14:26:45.451778Z",
     "shell.execute_reply.started": "2022-08-08T14:26:45.436038Z",
     "shell.execute_reply": "2022-08-08T14:26:45.450409Z"
    },
    "trusted": true
   },
   "execution_count": 12,
   "outputs": []
  },
  {
   "cell_type": "markdown",
   "source": "<a name=\"4\"></a>\n# 4. Training\nNow we have all the ingredients to train our model:\nThe training is performed on 10 epochs.",
   "metadata": {
    "pycharm": {
     "name": "#%% md\n"
    }
   }
  },
  {
   "cell_type": "code",
   "source": "checkpoint = torch.load(\"../input/transformer-1h-32b-nopt/transformer_glove100E_2H_128F_3_3.pt\")\ntransformer.load_state_dict(checkpoint['model_state_dict'])\noptimizer.load_state_dict(checkpoint['optimizer_state_dict'])\nepoch = checkpoint['epoch']",
   "metadata": {
    "execution": {
     "iopub.status.busy": "2022-08-08T14:26:45.454446Z",
     "iopub.execute_input": "2022-08-08T14:26:45.454938Z",
     "iopub.status.idle": "2022-08-08T14:26:47.559487Z",
     "shell.execute_reply.started": "2022-08-08T14:26:45.454885Z",
     "shell.execute_reply": "2022-08-08T14:26:47.558284Z"
    },
    "trusted": true
   },
   "execution_count": 13,
   "outputs": []
  },
  {
   "cell_type": "code",
   "source": "from timeit import default_timer as timer\nNUM_EPOCHS = 3\n\ntrain_losses = []\nval_losses = []\n\nfor epoch in range(1, NUM_EPOCHS+1):\n    start_time = timer()\n    train_loss = train_epoch(transformer, optimizer)\n    end_time = timer()\n    val_loss = evaluate(transformer)\n    print((f\"Epoch: {epoch}, Train loss: {train_loss:.3f}, Val loss: {val_loss:.3f}, \"f\"Epoch time = {(end_time - start_time):.3f}s\"))\n    train_losses.append(train_loss)\n    val_losses.append(val_loss)\n    torch.save({\n        'epoch': epoch,\n        'model_state_dict': transformer.state_dict(),\n        'optimizer_state_dict': optimizer.state_dict(),\n        'loss': val_loss,\n    }, pl.Path(checkpoint_folder)/model_name)",
   "metadata": {
    "collapsed": false,
    "pycharm": {
     "name": "#%%\n"
    },
    "jupyter": {
     "outputs_hidden": false
    },
    "execution": {
     "iopub.status.busy": "2022-08-08T14:26:47.561632Z",
     "iopub.execute_input": "2022-08-08T14:26:47.562111Z",
     "iopub.status.idle": "2022-08-08T14:51:15.828879Z",
     "shell.execute_reply.started": "2022-08-08T14:26:47.562059Z",
     "shell.execute_reply": "2022-08-08T14:51:15.827225Z"
    },
    "trusted": true
   },
   "execution_count": 14,
   "outputs": [
    {
     "name": "stderr",
     "text": "100%|██████████| 6250/6250 [07:38<00:00, 13.63it/s]\n100%|██████████| 625/625 [00:31<00:00, 19.79it/s]\n",
     "output_type": "stream"
    },
    {
     "name": "stdout",
     "text": "Epoch: 1, Train loss: 5.322, Val loss: 4.642, Epoch time = 458.566s\n",
     "output_type": "stream"
    },
    {
     "name": "stderr",
     "text": "100%|██████████| 6250/6250 [07:37<00:00, 13.66it/s]\n100%|██████████| 625/625 [00:31<00:00, 19.80it/s]\n",
     "output_type": "stream"
    },
    {
     "name": "stdout",
     "text": "Epoch: 2, Train loss: 4.992, Val loss: 4.217, Epoch time = 457.594s\n",
     "output_type": "stream"
    },
    {
     "name": "stderr",
     "text": "100%|██████████| 6250/6250 [07:35<00:00, 13.73it/s]\n100%|██████████| 625/625 [00:32<00:00, 19.44it/s]\n",
     "output_type": "stream"
    },
    {
     "name": "stdout",
     "text": "Epoch: 3, Train loss: 4.668, Val loss: 3.898, Epoch time = 455.169s\n",
     "output_type": "stream"
    }
   ]
  },
  {
   "cell_type": "code",
   "source": "_ = plt.plot(train_losses)\n_ = plt.plot(val_losses)",
   "metadata": {
    "collapsed": false,
    "pycharm": {
     "name": "#%%\n"
    },
    "jupyter": {
     "outputs_hidden": false
    },
    "execution": {
     "iopub.status.busy": "2022-08-08T14:51:15.836969Z",
     "iopub.execute_input": "2022-08-08T14:51:15.837804Z",
     "iopub.status.idle": "2022-08-08T14:51:16.077503Z",
     "shell.execute_reply.started": "2022-08-08T14:51:15.837760Z",
     "shell.execute_reply": "2022-08-08T14:51:16.076105Z"
    },
    "trusted": true
   },
   "execution_count": 15,
   "outputs": [
    {
     "output_type": "display_data",
     "data": {
      "text/plain": "<Figure size 432x288 with 1 Axes>",
      "image/png": "[encoded data removed]"
     },
     "metadata": {
      "needs_background": "light"
     }
    }
   ]
  },
  {
   "cell_type": "markdown",
   "source": [
    "<a name=\"5\"></a>\n",
    "# 5. Evaluation\n",
    "We can perform corrections of sentences using the ``greedy_decode`` function.\n",
    "In this function, at each timestep the most probable token is selected as correction at each time step, without evaluating its impact on the rest of the sequence.\n",
    "\n",
    "I provide a batched implementation of greedy search for higher inference speed.\n",
    "In this implementation, the model is forced to predict only PAD tokens after the character EOS is predicted, using the following formula:\n",
    "\n",
    "$$\\hat{y}_t = \\hat{y}_t * u_t + (1-u_t) * \\text{<PAD>}$$\n",
    "\n",
    "where $\\hat{y}_t$ is a vector containing the index of the highest probability word at time $t$ and $u_t$ is a boolean vector which is set to 1 if a EOS token is has not been predicted yet for the i-th sentence of the batch and 0 otherwise.\n",
    "The prediction ends if $u_t[i] == 0 \\; \\forall  i$ or if the maximum sequence length is reached."
   ],
   "metadata": {
    "pycharm": {
     "name": "#%% md\n"
    }
   }
  },
  {
   "cell_type": "code",
   "source": "# function to generate output sequence using greedy algorithm\n# input: (input_length,batch_size)\n# output: (input_length)\ndef greedy_decode(model, src, src_mask, src_padding_mask, max_len):\n    batch_size = src.shape[1]\n\n    src = src.to(DEVICE)\n    src_mask = src_mask.to(DEVICE)\n    src_padding_mask = src_padding_mask.to(DEVICE)\n    unfinished_sequences = torch.ones(1,batch_size).to(DEVICE)\n\n    context = transformer.encode(src, src_mask,src_padding_mask).to(DEVICE)\n    ys = torch.ones(1, batch_size).fill_(BOS_IDX).type(torch.long).to(DEVICE)\n    for i in range(max_len-1):\n        tgt_mask = (generate_square_subsequent_mask(ys.size(0))\n                    .type(torch.bool)).to(DEVICE)\n        out = model.decode(ys, context, tgt_mask)\n        out = out.transpose(0, 1)\n        prob = model.generator(out[:, -1])\n        _, next_word = torch.max(prob,dim=1)\n        #Predict only PAD_IDX after EOS_IDX is predicted\n        next_word = next_word * unfinished_sequences + (1-unfinished_sequences) * PAD_IDX\n        ys = torch.cat([ys,\n                        next_word], dim=0)\n        # if eos_token was found in one sentence, set sentence to finished\n\n        unfinished_sequences = unfinished_sequences.mul((next_word != EOS_IDX).long())\n        #\n        # stop when each sentence is finished, or if we exceed the maximum length\n        if unfinished_sequences.max() == 0:\n            break\n    return ys.int()\n\n\n# actual function to correct input sentence\ndef correct(src_sentence: str, model: torch.nn.Module):\n    model.eval()\n    src = text_transform(src_sentence).view(-1, 1)\n    num_tokens = src.shape[0]\n    src_mask = (torch.zeros(num_tokens, num_tokens)).type(torch.bool)\n    src_padding_mask = (torch.zeros(1, num_tokens)).type(torch.bool)\n    tgt_tokens = greedy_decode(\n        model,  src, src_mask,src_padding_mask, max_len=num_tokens + 5).flatten()\n    return ' '.join([vocab_transform.vocab.itos_[i] for i in tgt_tokens if i not in [PAD_IDX,BOS_IDX,EOS_IDX]])",
   "metadata": {
    "collapsed": false,
    "pycharm": {
     "name": "#%%\n"
    },
    "jupyter": {
     "outputs_hidden": false
    },
    "execution": {
     "iopub.status.busy": "2022-08-08T14:55:57.401181Z",
     "iopub.execute_input": "2022-08-08T14:55:57.401611Z",
     "iopub.status.idle": "2022-08-08T14:55:57.415313Z",
     "shell.execute_reply.started": "2022-08-08T14:55:57.401579Z",
     "shell.execute_reply": "2022-08-08T14:55:57.413913Z"
    },
    "trusted": true
   },
   "execution_count": 29,
   "outputs": []
  },
  {
   "cell_type": "markdown",
   "source": [
    "A better way could be to use a ``Beam Search``, choosing $k$ tokens at each timestep and then scoring each node with its log probability."
   ],
   "metadata": {
    "collapsed": false,
    "pycharm": {
     "name": "#%% md\n"
    }
   }
  },
  {
   "cell_type": "code",
   "source": "checkpoint = torch.load(pl.Path(checkpoint_folder)/model_name)\ntransformer.load_state_dict(checkpoint['model_state_dict'])\n\ntransformer.eval()\n\n# Pick one in 18M examples\ntest_iter = Hdf5Dataset(pl.Path(folder)/test_filename,num_entries=None)\n\nsrc,trg = random.choice(test_iter)\n\nprint(\"input: \\\"\",src,\"\\\"\")\nprint(\"target: \\\"\",trg,\"\\\"\")\n\nprediction = correct(src,transformer)\n\nprint(\"prediction: \\\"%s\\\"\"%prediction)",
   "metadata": {
    "collapsed": false,
    "pycharm": {
     "name": "#%%\n"
    },
    "jupyter": {
     "outputs_hidden": false
    },
    "execution": {
     "iopub.status.busy": "2022-08-08T14:58:15.706972Z",
     "iopub.execute_input": "2022-08-08T14:58:15.707732Z",
     "iopub.status.idle": "2022-08-08T14:58:16.196473Z",
     "shell.execute_reply.started": "2022-08-08T14:58:15.707699Z",
     "shell.execute_reply": "2022-08-08T14:58:16.195191Z"
    },
    "trusted": true
   },
   "execution_count": 42,
   "outputs": [
    {
     "name": "stdout",
     "text": "input: \" Should you have not too long ago sustained an personal injury for your reduced physique, you’ll want to take consideration of a knee scooter to assist you transfer round the property or outside. \"\ntarget: \" Should you have not too long ago sustained an personal injury for your reduced physique, you’ll want to take into consideration getting a knee scooter to assist you transfer round the property or outside. \"\nprediction: \"should you have not too long ago house an personal ! for your house , <UNK> want to take young of a local us to ensure you your round <UNK> property or community .\"\n",
     "output_type": "stream"
    }
   ]
  },
  {
   "cell_type": "code",
   "source": "from torch.utils.data import DataLoader\nfrom nltk.translate import chrf_score,bleu_score\nimport re\n\ndef test_collate_fn(batch):\n    src_batch, tgt_batch = [], []\n    for src_sample, tgt_sample in batch:\n        src_batch.append(text_transform(src_sample.rstrip(\"\\n\")))\n        tgt_batch.append(tgt_sample.rstrip(\"\\n\"))\n\n    src_batch = pad_sequence(src_batch, padding_value=PAD_IDX)\n    return src_batch, tgt_batch\n\ndef test(model):\n    model.eval()\n    score = 0\n\n    test_iter = Hdf5Dataset(pl.Path(folder)/test_filename,num_entries=VALID_SAMPLES)\n    test_dataloader = DataLoader(test_iter, batch_size=64,collate_fn=test_collate_fn)\n    for src, tgt in tqdm(test_dataloader):\n        src_mask, _, src_padding_mask, _ = create_mask(src, src)\n        num_tokens = src.shape[0]\n        with torch.no_grad():\n            pred_tokens = greedy_decode(\n                model,  src, src_mask,src_padding_mask, max_len=num_tokens + 5).T.flatten()\n            pred_sentences = ' '.join([vocab_transform.vocab.itos_[i] for i in pred_tokens if i not in [PAD_IDX,BOS_IDX,EOS_IDX]])\n            pred_sentences = re.sub(r'\\s([?.!,\"](?:\\s|$))', r'\\1', pred_sentences)\n        score += chrf_score.sentence_chrf(pred_sentences,' '.join(tgt))\n\n    \n    return score / len(test_dataloader)",
   "metadata": {
    "collapsed": false,
    "pycharm": {
     "name": "#%%\n"
    },
    "jupyter": {
     "outputs_hidden": false
    },
    "execution": {
     "iopub.status.busy": "2022-08-08T15:00:48.719358Z",
     "iopub.execute_input": "2022-08-08T15:00:48.719784Z",
     "iopub.status.idle": "2022-08-08T15:00:48.730836Z",
     "shell.execute_reply.started": "2022-08-08T15:00:48.719750Z",
     "shell.execute_reply": "2022-08-08T15:00:48.729676Z"
    },
    "trusted": true
   },
   "execution_count": 52,
   "outputs": []
  },
  {
   "cell_type": "code",
   "source": "checkpoint = torch.load(pl.Path(checkpoint_folder)/model_name)\ntransformer.load_state_dict(checkpoint['model_state_dict'])\n\ntransformer.eval()\n\n# print(chrf_score.chrf_precision_recall_fscore_support('Thinking of hiring The Pass Street Food Cafe for your event?','thinking of hiring the pass street food cafe for your event',n=1))\n\ntest_loss = test(transformer)\nprint(test_loss)\n\n# bleu = bleu_score.sentence_bleu()\n#\n# test_loss = test(transformer,bleu)\n# print(test_loss)",
   "metadata": {
    "collapsed": false,
    "pycharm": {
     "name": "#%%\n"
    },
    "jupyter": {
     "outputs_hidden": false
    },
    "execution": {
     "iopub.status.busy": "2022-08-08T15:00:50.607645Z",
     "iopub.execute_input": "2022-08-08T15:00:50.608102Z",
     "iopub.status.idle": "2022-08-08T15:24:19.738388Z",
     "shell.execute_reply.started": "2022-08-08T15:00:50.608070Z",
     "shell.execute_reply": "2022-08-08T15:24:19.737201Z"
    },
    "trusted": true
   },
   "execution_count": 53,
   "outputs": [
    {
     "name": "stderr",
     "text": "100%|██████████| 157/157 [23:28<00:00,  8.97s/it]",
     "output_type": "stream"
    },
    {
     "name": "stdout",
     "text": "0.4710811108487616\n",
     "output_type": "stream"
    },
    {
     "name": "stderr",
     "text": "\n",
     "output_type": "stream"
    }
   ]
  },
  {
   "cell_type": "markdown",
   "source": [
    "<a name=\"6\"></a>\n",
    "# 6. Results\n",
    "\n",
    "| Model                                   | Embeddings         | chrF |\n",
    "|-----------------------------------------|--------------------|:----:|\n",
    "| Transformer (2 units, 2 Heads, FFN 128) | No pretraining     | 0.64 |\n",
    "| Transformer (2 units, 2 Heads, FFN 128) | GloVe Twitter 100D | 0.47 |\n",
    "\n"
   ],
   "metadata": {
    "pycharm": {
     "name": "#%% md\n"
    }
   }
  },
  {
   "cell_type": "markdown",
   "source": "<a name=\"7\"></a>\n# 7. References\n\n1. [Attention is all you need](https://papers.nips.cc/paper/2017/file/3f5ee243547dee91fbd053c1c4a845aa-Paper.pdf)\n2. [The annotated transformer](http://nlp.seas.harvard.edu/annotated-transformer)\n3. [Pytorch tutorial on NMT with transformers](https://pytorch.org/tutorials/beginner/translation_transformer.html)\n4. [Speech and Language Processing, Jurafsky and Martin](https://web.stanford.edu/~jurafsky/slp3/)\n\n",
   "metadata": {
    "pycharm": {
     "name": "#%% md\n"
    }
   }
  }
 ]
}